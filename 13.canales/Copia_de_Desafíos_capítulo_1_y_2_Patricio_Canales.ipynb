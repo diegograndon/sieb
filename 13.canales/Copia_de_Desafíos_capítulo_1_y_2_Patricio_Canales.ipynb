{
  "nbformat": 4,
  "nbformat_minor": 0,
  "metadata": {
    "colab": {
      "provenance": [],
      "include_colab_link": true
    },
    "kernelspec": {
      "name": "python3",
      "display_name": "Python 3"
    },
    "language_info": {
      "name": "python"
    }
  },
  "cells": [
    {
      "cell_type": "markdown",
      "metadata": {
        "id": "view-in-github",
        "colab_type": "text"
      },
      "source": [
        "<a href=\"https://colab.research.google.com/github/diegograndon/sieb/blob/main/Copia_de_Desaf%C3%ADos_cap%C3%ADtulo_1_y_2_Patricio_Canales.ipynb\" target=\"_parent\"><img src=\"https://colab.research.google.com/assets/colab-badge.svg\" alt=\"Open In Colab\"/></a>"
      ]
    },
    {
      "cell_type": "markdown",
      "source": [
        "# Desafíos de Pensamiento Computacional y Programación en Python\n",
        "\n",
        "*Basados en los capítulos 1 y 2 del libro \"Think Python\" de Allen Downey*\n",
        "\n",
        "## Instrucciones para el estudiante\n",
        "\n",
        "Este notebook contiene una serie de desafíos de programación en Python organizados por nivel de dificultad. Cada desafío te permitirá poner en práctica los conceptos que hemos aprendido hasta ahora en el curso. Recuerda:\n",
        "\n",
        "- Puedes usar solo los conceptos vistos en el capítulo 1 completo y los elementos básicos del capítulo 2.\n",
        "- Es importante que intentes resolver los problemas por ti mismo antes de pedir ayuda.\n",
        "- Documenta tu código utilizando comentarios para explicar tu razonamiento.\n",
        "- Prueba tus soluciones con diferentes entradas para verificar que funcionan correctamente.\n",
        "\n",
        "---\n",
        "\n",
        "## **Nivel 1: Primeros Pasos**\n",
        "\n",
        "**Desafío 1.1: Explorando el intérprete**\n",
        "\n",
        "Utiliza el intérprete de Python como una calculadora para resolver las siguientes operaciones:\n",
        "- Calcula el área de un círculo con radio 5 (recuerda que Área = π × r²)\n",
        "\n"
      ],
      "metadata": {
        "id": "tRCRCmArhlzD"
      }
    },
    {
      "cell_type": "code",
      "source": [
        "import math #importar el statement de matematicas\n",
        "\n",
        "area_con_radio_5 = math.pi * 5 ** 2 # asignar la operacion a la ecuación remplazando el radio\n",
        "\n",
        "print(f\"el área de un círculo de radio 5 es de: {area_con_radio_5}\") # imprimir en la consola el resultado de la operación"
      ],
      "metadata": {
        "id": "PkkwLe7OhmmE",
        "colab": {
          "base_uri": "https://localhost:8080/"
        },
        "outputId": "392cda20-d073-4254-81cc-d2773a366e80"
      },
      "execution_count": null,
      "outputs": [
        {
          "output_type": "stream",
          "name": "stdout",
          "text": [
            "el área de un círculo de radio 5 es de: 78.53981633974483\n"
          ]
        }
      ]
    },
    {
      "cell_type": "markdown",
      "source": [
        "- Calcula cuántos segundos hay en 5 horas, 30 minutos y 15 segundos\n"
      ],
      "metadata": {
        "id": "rh-wUCoGh6pS"
      }
    },
    {
      "cell_type": "code",
      "source": [
        "hora = 3600 # 3600 segundos para 1 hora (formula: 60 * 60)\n",
        "\n",
        "minutos30 = 1800  # 1800 segundos para 30 minutos (formula: 30 * 60)\n",
        "\n",
        "tiempo_total = (hora * 5) + minutos30 + 15\n",
        "\n",
        "print(f\"Hay \\033[1m{tiempo_total}\\033[0m segundos en 5 Horas, 30 Minutos y 15 Segundos\") #imprimir en la consola el resultado de la operación\n",
        "\n",
        "#agregado a esto, `\\033[1m` es el código ANSI para empezar texto en negritas\n",
        "\n",
        "#y sirve también \\033[0m` es el código ANSI para resetear el formato a normal"
      ],
      "metadata": {
        "id": "s_p71yOyh-Vg",
        "colab": {
          "base_uri": "https://localhost:8080/"
        },
        "outputId": "24732d2e-6bc9-4137-96dc-3d86f4a96cd3"
      },
      "execution_count": null,
      "outputs": [
        {
          "output_type": "stream",
          "name": "stdout",
          "text": [
            "Hay \u001b[1m19815\u001b[0m segundos en 5 Horas, 30 Minutos y 15 Segundos\n"
          ]
        }
      ]
    },
    {
      "cell_type": "markdown",
      "source": [
        "- Calcula tu edad exacta en días (aproximadamente)"
      ],
      "metadata": {
        "id": "1mDzvOHah-2C"
      }
    },
    {
      "cell_type": "code",
      "source": [
        "nombre = \"Patricio\"\n",
        "\n",
        "edad = 16\n",
        "\n",
        "calculo = 16*365 #edad en dias aprox.\n",
        "\n",
        "print(f\"{nombre}, tu tienes {edad} años, tendrías aproximadamente unos {calculo} dias\")"
      ],
      "metadata": {
        "id": "Ow_lZuBzh_jW",
        "colab": {
          "base_uri": "https://localhost:8080/"
        },
        "outputId": "cdb7566e-2a34-4de3-f4dd-54dc0ece7fc0"
      },
      "execution_count": null,
      "outputs": [
        {
          "output_type": "stream",
          "name": "stdout",
          "text": [
            "Patricio, tu tienes 16 años, tendrías aproximadamente unos 5840 dias\n"
          ]
        }
      ]
    },
    {
      "cell_type": "markdown",
      "source": [
        "---\n",
        "**Desafío 1.2: Errores y depuración**\n",
        "\n",
        "Identifica y corrige los errores en los siguientes códigos:\n",
        "\n",
        "1. print(\"Hola mundo\"\n",
        "\n",
        "2. print(5 + * 2)\n",
        "\n",
        "3. print(10 / 0)"
      ],
      "metadata": {
        "id": "kjeKdAqdMOd-"
      }
    },
    {
      "cell_type": "markdown",
      "source": [
        "Respuesta desafío 1.2\n",
        "\n",
        "\n",
        "*escribir acá las explicaciones de cada error*\n",
        "\n",
        "# ***error 1*** :\n",
        "no cierra el parentesis de el print, da un error de sintaxis, codigo arreglado:\n",
        "\n",
        "**print(\"hola mundo\")**\n",
        "\n",
        "\n",
        "# ***error 2*** :\n",
        "usa mal la suma y la multiplicación, se soluciona de distintas maneras;\n",
        "\n",
        "1.- falta un numero entre medio, arreglo:\n",
        "\n",
        "**print(5+2*2)**\n",
        "\n",
        "2.- borrar el \"*\" así sumará 2, arreglo:\n",
        "\n",
        "**print(5+2)**\n",
        "\n",
        "3.- borrar el \"+\" (debería ser el error más común) así se multiplicará por 2, arreglo:\n",
        "\n",
        "**print(5*2)**\n",
        "\n",
        "# ***error 3***\n",
        "divide por 0, no se puede dividir por 0.\n",
        "\n",
        "porque la división es la operación inversa de la multiplicación, y no existe ningún número que, multiplicado por cero, dé como resultado un número distinto de cero.\n",
        "\n",
        "arreglo:\n",
        "\n",
        "n = 17 #cambiar por cualquier numero que quiera o añadir a la funcion la funcion imput para que solicite el numero pero todavia no lo vemos.\n",
        "\n",
        "operación = 10/n\n",
        "\n",
        "print(f\"el resultado de la división entre 10 y {n} es: {operación}\")"
      ],
      "metadata": {
        "id": "QaH0_ZPBMdLE"
      }
    },
    {
      "cell_type": "markdown",
      "source": [
        "---\n",
        "**Desafío 1.3: Secuencia de operaciones**\n",
        "\n",
        "Escribe una expresión que convierta una temperatura de 98.6 grados Fahrenheit a Celsius. La fórmula es: C = (F - 32) × 5/9.\n"
      ],
      "metadata": {
        "id": "mUeB90JBNQS7"
      }
    },
    {
      "cell_type": "code",
      "source": [
        "f = 98.6\n",
        "\n",
        "Celcius = (f-32) * 5/9\n",
        "\n",
        "print(f\"{f}°F al convertirlos a celcius da como resultado: {Celcius}\")"
      ],
      "metadata": {
        "id": "2sc61zARNT0l",
        "colab": {
          "base_uri": "https://localhost:8080/"
        },
        "outputId": "52c8d7f4-2ca7-46ad-ef61-c6e277d21d1b"
      },
      "execution_count": null,
      "outputs": [
        {
          "output_type": "stream",
          "name": "stdout",
          "text": [
            "98.6°F al convertirlos a celcius da como resultado: 37.0\n"
          ]
        }
      ]
    },
    {
      "cell_type": "markdown",
      "source": [
        "---\n",
        "## **Nivel 2: Variables y Expresiones**\n",
        "\n",
        "**Desafío 2.1: Manipulación de variables**\n",
        "\n",
        "Escribe un programa que:\n",
        "\n",
        "1.   Cree una variable llamada nombre con tu nombre\n",
        "2.  Cree una variable llamada edad con tu edad\n",
        "3.  Calcule e imprima cuántos años tendrás en 2030\n",
        "4.  Imprima un mensaje que diga \"Hola [nombre], en 2030 tendrás [edad en 2030] años\"\n"
      ],
      "metadata": {
        "id": "aPj-4BfPNYPQ"
      }
    },
    {
      "cell_type": "code",
      "source": [
        "nombre = \"Patricio\"\n",
        "edad = 16\n",
        "\n",
        "calculo = 16+5\n",
        "print(f\"Hola {nombre}, en 2030 tendrás {edad + 5} años\")"
      ],
      "metadata": {
        "id": "xxRuGIYLN7EJ",
        "colab": {
          "base_uri": "https://localhost:8080/"
        },
        "outputId": "8653c951-bdd6-450b-9b71-3f9b435c4e24"
      },
      "execution_count": null,
      "outputs": [
        {
          "output_type": "stream",
          "name": "stdout",
          "text": [
            "Hola Patricio, en 2030 tendrás 21 años\n"
          ]
        }
      ]
    },
    {
      "cell_type": "markdown",
      "source": [
        "**Desafío 2.2: Calculadora de tiempo**\n",
        "\n",
        "Escribe un programa que convierta un número de segundos ingresado a su equivalente en horas, minutos y segundos. Por ejemplo, 3661 segundos deberían mostrar: 1 hora, 1 minuto y 1 segundo.\n"
      ],
      "metadata": {
        "id": "Pkm4a5vpN77E"
      }
    },
    {
      "cell_type": "code",
      "source": [
        "segundos_totales = 12924124\n",
        "\n",
        "#calculando las horas\n",
        "horas = segundos_totales // 3600\n",
        "segundosrestantes = segundos_totales - (horas * 3600)\n",
        "\n",
        "#calculando los minutos\n",
        "minutos = segundosrestantes // 60\n",
        "segundos_finales = segundosrestantes - (minutos * 60)\n",
        "\n",
        "#resultado\n",
        "print(f\"hola, si dividimos los segundos ({segundos_totales}) que nos diste dan como en total {horas} horas, {minutos} minutos y {segundos_finales} segundos\")"
      ],
      "metadata": {
        "id": "k6w-aiElOAAP",
        "colab": {
          "base_uri": "https://localhost:8080/"
        },
        "outputId": "18cdf6e2-922a-469c-e418-38fcc16b61c2"
      },
      "execution_count": null,
      "outputs": [
        {
          "output_type": "stream",
          "name": "stdout",
          "text": [
            "hola, si dividimos los segundos (12924124) que nos diste dan como en total 3590 horas, 2 minutos y 4 segundos\n"
          ]
        }
      ]
    },
    {
      "cell_type": "markdown",
      "source": [
        "**Desafío 2.3: Intercambio de valores**\n",
        "\n",
        "Escribe un programa que tenga dos variables a y b con valores iniciales 5 y 10 respectivamente. Tu programa debe intercambiar los valores de estas variables e imprimir los resultados antes y después del intercambio."
      ],
      "metadata": {
        "id": "MdkJZL2QOAT2"
      }
    },
    {
      "cell_type": "code",
      "source": [
        "#variables\n",
        "\n",
        "a = 5\n",
        "b = 10\n",
        "\n",
        "print(\"Valores iniciales:\", a, b)  # 5 10\n",
        "\n",
        "a, b = b, a #cambio de valor entre estas dos variables\n",
        "\n",
        "print(\"Valores intercambiados:\", a, b)  # 10 5"
      ],
      "metadata": {
        "id": "A69_HiYzOIxy",
        "colab": {
          "base_uri": "https://localhost:8080/"
        },
        "outputId": "62d08ee5-6b90-452a-def4-e64ddfc133c8"
      },
      "execution_count": 1,
      "outputs": [
        {
          "output_type": "stream",
          "name": "stdout",
          "text": [
            "Valores iniciales: 5 10\n",
            "Valores intercambiados: 10 5\n"
          ]
        }
      ]
    },
    {
      "cell_type": "markdown",
      "source": [
        "\n",
        "## **Nivel 3: Operaciones y Tipos de Datos**\n",
        "\n",
        "**Desafío 3.1: Operadores aritméticos**\n",
        "\n",
        "Crea un programa que calcule:\n",
        "1. El área y perímetro de un rectángulo con dimensiones 4 x 7\n",
        "2. El volumen de una esfera de radio 3 (V = 4/3 × π × r³)\n",
        "3. La distancia entre dos puntos (3,4) y (6,8) usando la fórmula: d = sqrt[(x₂ - x₁)² + (y₂ - y₁)²]\n"
      ],
      "metadata": {
        "id": "pDBGLRNmOWxY"
      }
    },
    {
      "cell_type": "code",
      "source": [
        "# ejercicio 1\n",
        "\n",
        "area = 4 * 7 # base por altura\n",
        "\n",
        "perimetro = 2 * (4+7) # suma de todos sus lados\n",
        "\n",
        "print(area)\n",
        "print(perimetro)"
      ],
      "metadata": {
        "colab": {
          "base_uri": "https://localhost:8080/"
        },
        "id": "M44uzG5nvEEx",
        "outputId": "009a813c-ac7d-4f0b-9605-6d848a24377e"
      },
      "execution_count": null,
      "outputs": [
        {
          "output_type": "stream",
          "name": "stdout",
          "text": [
            "28\n",
            "22\n"
          ]
        }
      ]
    },
    {
      "cell_type": "code",
      "source": [
        "#ejercicio 2\n",
        "\n",
        "import math\n",
        "\n",
        "volumen = 4/3 * math.pi * 3**3\n",
        "\n",
        "print(volumen)"
      ],
      "metadata": {
        "colab": {
          "base_uri": "https://localhost:8080/"
        },
        "id": "AUBh6noR0RbJ",
        "outputId": "97e758c0-a25d-4cf0-e40f-d1ba9daf6c8b"
      },
      "execution_count": null,
      "outputs": [
        {
          "output_type": "stream",
          "name": "stdout",
          "text": [
            "113.09733552923254\n"
          ]
        }
      ]
    },
    {
      "cell_type": "code",
      "source": [
        "#ejercicio 3\n",
        "\n",
        "import math\n",
        "\n",
        "# Coordenadas de los puntos\n",
        "x1, y1 = 3, 4\n",
        "x2, y2 = 6, 8\n",
        "\n",
        "# Fórmula de distancia\n",
        "distancia = math.sqrt((x2 - x1) ** 2 + (y2 - y1) ** 2)\n",
        "\n",
        "print(distancia)"
      ],
      "metadata": {
        "id": "sKDoom0JOc_z",
        "colab": {
          "base_uri": "https://localhost:8080/"
        },
        "outputId": "fcd998c6-956f-4d49-91df-ae63d9f5f5cb"
      },
      "execution_count": null,
      "outputs": [
        {
          "output_type": "stream",
          "name": "stdout",
          "text": [
            "5.0\n"
          ]
        }
      ]
    },
    {
      "cell_type": "markdown",
      "source": [
        "**Desafío 3.2: Divisiones y módulo**\n",
        "\n",
        "Escribe un programa que:\n",
        "*   Calcule la división entera de 17 entre 5\n",
        "*   Calcule el resto de esa división\n",
        "*   Verifique que usando ambos resultados puedes reconstruir el número 17\n",
        "\n"
      ],
      "metadata": {
        "id": "pFsoV4D3Odg5"
      }
    },
    {
      "cell_type": "code",
      "source": [
        "divisionentera = 17//5\n",
        "\n",
        "restodivision = 17%5\n",
        "\n",
        "reconstruccion = (divisionentera * 5) + restodivision # (3 * 5) + 2\n",
        "\n",
        "print(f\"la división entera entre 17 y 5 es de: {divisionentera} luego, su resto es de: {restodivision}, y por ultimo la reconstruccion de ambos resultados es de: {reconstruccion}\")"
      ],
      "metadata": {
        "id": "-zRohDGbOeqU",
        "colab": {
          "base_uri": "https://localhost:8080/"
        },
        "outputId": "b8cf44cd-f147-4e6c-a118-6b88e2f54bf8"
      },
      "execution_count": null,
      "outputs": [
        {
          "output_type": "stream",
          "name": "stdout",
          "text": [
            "la división entera entre 17 y 5 es de: 3 luego, su resto es de: 2, y por ultimo la reconstruccion de ambos resultados es de: 17\n"
          ]
        }
      ]
    },
    {
      "cell_type": "markdown",
      "source": [
        "**Desafío 3.3: Conversiones de tipos**\n",
        "\n",
        "Crea un programa que:\n",
        "1. Convierta el número 3.14159 a entero de dos maneras diferentes (truncando y redondeando).\n",
        "2. Convierta el texto \"42\" a un número entero y luego realice una operación matemática con él (imprimir algún ejemplo).\n",
        "3. Convierta un número entero (elige alguno) a string y logra concatenarlo a un texto.\n",
        "\n",
        "En los tres casos se debe imprimir el resultado con un mensaje explicativo.\n"
      ],
      "metadata": {
        "id": "ZHm2Y_iBOe9f"
      }
    },
    {
      "cell_type": "code",
      "source": [
        "#ejercicio 1\n",
        "numero = 3.14159\n",
        "\n",
        "truncado = int(numero)\n",
        "\n",
        "redondeado = round(numero)\n",
        "\n",
        "print(f\"al truncar {numero} da como resultado: {truncado} y al redondearlo da: {redondeado} ya que esta mas cerca del 3 que del 4\")"
      ],
      "metadata": {
        "id": "DAjHRWyjOfmG",
        "colab": {
          "base_uri": "https://localhost:8080/"
        },
        "outputId": "ef7535fc-4bde-4829-c764-4b5306e45b0f"
      },
      "execution_count": null,
      "outputs": [
        {
          "output_type": "stream",
          "name": "stdout",
          "text": [
            "al truncar 3.14159 da como resultado: 3 y al redondearlo da: 3 ya que esta mas cerca del 3 que del 4\n"
          ]
        }
      ]
    },
    {
      "cell_type": "code",
      "source": [
        "#ejercicio 2\n",
        "\n",
        "texto = \"42\"\n",
        "\n",
        "conversión = int(texto)\n",
        "\n",
        "operación =  (conversión + 48) * 2\n",
        "\n",
        "operacionenstring = \"(42+48) * 2\"\n",
        "\n",
        "print(f\"convertimos {texto} a numero con la función int, e hicimos una operación {operacionenstring} para verificar que funciona y da como resultado: {operación} \")"
      ],
      "metadata": {
        "colab": {
          "base_uri": "https://localhost:8080/"
        },
        "id": "moIwYBey43rZ",
        "outputId": "00242424-ea53-4dcc-a06f-a9e6d8a22d45"
      },
      "execution_count": null,
      "outputs": [
        {
          "output_type": "stream",
          "name": "stdout",
          "text": [
            "convertimos 42 a numero con la función int, e hicimos una operación (42+48) * 2 para verificar que funciona y da como resultado: 180 \n"
          ]
        }
      ]
    },
    {
      "cell_type": "markdown",
      "source": [
        "---\n",
        "## **Nivel 4: Retos de Integración**\n",
        "\n",
        "**Desafío 4.1: Calculadora de IMC**\n",
        "\n",
        "Crea un programa que calcule el Índice de Masa Corporal (IMC).\n",
        "El programa debe:\n",
        "1. Declarar variables para la altura (en metros) y el peso (en kilogramos)\n",
        "2. Calcular el IMC usando la fórmula: IMC = peso / altura²\n",
        "3. Imprimir el resultado con un mensaje explicativo"
      ],
      "metadata": {
        "id": "waVK_e9LPMpH"
      }
    },
    {
      "cell_type": "code",
      "source": [],
      "metadata": {
        "id": "IHRG34HAPcU-",
        "colab": {
          "base_uri": "https://localhost:8080/"
        },
        "outputId": "45479e24-5210-496f-c056-cc345febfb1a"
      },
      "execution_count": null,
      "outputs": [
        {
          "output_type": "stream",
          "name": "stdout",
          "text": [
            "\u001b[H\u001b[2J"
          ]
        }
      ]
    },
    {
      "cell_type": "markdown",
      "source": [
        "**Desafío 4.2: Calculadora de interés compuesto**\n",
        "\n",
        "Crea un programa que calcule el monto final de una inversión con interés compuesto:\n",
        "1. Declara variables para el capital inicial, la tasa de interés anual y el número de años\n",
        "2. Calcula el monto final usando la fórmula: Monto = Capital × (1 + Tasa)^Años\n",
        "3. Imprime el capital inicial y el monto final con un mensaje explicativo"
      ],
      "metadata": {
        "id": "v56RSBYuPcx5"
      }
    },
    {
      "cell_type": "code",
      "source": [],
      "metadata": {
        "id": "yPjUR5GpPggl"
      },
      "execution_count": null,
      "outputs": []
    },
    {
      "cell_type": "markdown",
      "source": [
        "---\n",
        "## **Nivel 5: Desafíos Avanzados**\n",
        "\n",
        "**Desafío 5.1: Fórmula cuadrática**\n",
        "\n",
        "Escribe un programa que implemente la fórmula cuadrática para encontrar las raíces de una ecuación de segundo grado (ax² + bx + c = 0):\n",
        "1. Declara variables para los coeficientes a, b y c\n",
        "2. Calcula el discriminante (b² - 4ac)\n",
        "3. Calcula las dos raíces: x = (-b ± √(discriminante)) / (2a)\n",
        "4. Imprime las raíces con un mensaje explicativo.\n"
      ],
      "metadata": {
        "id": "mJJDpN7_Pgyr"
      }
    },
    {
      "cell_type": "code",
      "source": [],
      "metadata": {
        "id": "Kuoxq0bePlzM"
      },
      "execution_count": null,
      "outputs": []
    },
    {
      "cell_type": "markdown",
      "source": [
        "**Desafío 5.2: Calculadora de tiempo de viaje**\n",
        "\n",
        "Crea un programa que calcule el tiempo que tardarías en llegar a Marte:\n",
        "1. La distancia mínima entre la Tierra y Marte es aproximadamente 54.6 millones de kilómetros\n",
        "2. Asume que un cohete viaja a 28,000 km/h\n",
        "3. Calcula cuántos días tomaría llegar a Marte a esa velocidad\n",
        "4. Imprime el resultado en días, horas, minutos y segundos\n",
        "\n"
      ],
      "metadata": {
        "id": "zA4jlRp4PmIS"
      }
    },
    {
      "cell_type": "code",
      "source": [],
      "metadata": {
        "id": "tijxBHOCQAqZ"
      },
      "execution_count": null,
      "outputs": []
    },
    {
      "cell_type": "markdown",
      "source": [
        "**Desafío 5.3: Calculadora de calorías**\n",
        "\n",
        "*(no cuenta como desafío pues es el ejemplo de classroom)*\n",
        "\n",
        "Diseña un programa que calcule cuántas calorías quema una persona al realizar ejercicio:\n",
        "\n",
        "La fórmula simplificada es:\n",
        "\n",
        "1.   Calorías = MET × Peso (kg) × Tiempo (horas)\n",
        "\n",
        "*   MET (Metabolic Equivalent of Task)\n",
        "*   varía según la actividad:\n",
        "*   Caminar: 3.5\n",
        "*   Correr: 8.0\n",
        "*   Nadar: 6.0\n",
        "\n",
        "2.  El programa debe permitir definir variables para el tipo de actividad, el peso de la persona y el tiempo de ejercicio\n",
        "3.  Calcular e imprimir las calorías quemadas con un mensaje explicativo."
      ],
      "metadata": {
        "id": "yxgPlVCDQBJg"
      }
    }
  ]
}
