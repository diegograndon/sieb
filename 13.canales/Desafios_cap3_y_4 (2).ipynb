{
  "nbformat": 4,
  "nbformat_minor": 0,
  "metadata": {
    "colab": {
      "provenance": []
    },
    "kernelspec": {
      "name": "python3",
      "display_name": "Python 3"
    },
    "language_info": {
      "name": "python"
    }
  },
  "cells": [
    {
      "cell_type": "markdown",
      "source": [
        "# **Nivel 1: Gaming y Entretenimiento**(35 minutos)\n",
        "\n",
        "**Desafío 1.1: Calculadora de XP**\n",
        "\n",
        "Eres un desarrollador de videojuegos. Crea una función\n",
        "\n",
        "\n",
        "calcular_xp(nivel_actual, horas_jugadas)\n",
        "\n",
        "\n",
        "que calcule la experiencia ganada usando la fórmula:\n",
        "\n",
        "\n",
        "XP = nivel_actual × horas_jugadas × 100.\n",
        "\n",
        "\n",
        "Usa un bucle for para calcular el XP de 4 jugadores con los siguientes\n",
        "datos:\n",
        "\n",
        "\n",
        "● Jugador 1: Nivel 5, 3 horas\n",
        "\n",
        "● Jugador 2: Nivel 12, 2 horas\n",
        "\n",
        "● Jugador 3: Nivel 8, 5 horas\n",
        "\n",
        "● Jugador 4: Nivel 15, 1 hora"
      ],
      "metadata": {
        "id": "qY-vTX9dftaX"
      }
    },
    {
      "cell_type": "code",
      "source": [
        "#Gaming Y entretenimiento, Desafío 1.1: Calculadora de XP:\n",
        "\n",
        "\n",
        "!pip install colorama\n",
        "\n",
        "\"\"\"instala colorama,un módulo de python el cual añade colores a la terminal.\"\"\"\n",
        "\n",
        "from colorama import Cursor, init, Fore\n",
        "\n",
        "from IPython.display import clear_output\n",
        "\n",
        "\"\"\"Indica que instale algunos apartados para la consola.\n",
        "Colorama para colores en la consola, y clear output para limpiar la consola\"\"\"\n",
        "\n",
        "def calculatexp(level, playtime): #definir nivel actual, tiempo de juego\n",
        "   xp = level * playtime * 100\n",
        "   return xp\n",
        "\n",
        "for i in range(4):\n",
        "  xp_player1 = calculatexp(5, 3)\n",
        "  xp_player2 = calculatexp(12, 2)\n",
        "  xp_player3 = calculatexp(8, 5)\n",
        "  xp_player4 = calculatexp(15, 1)\n",
        "\n",
        "#colores para la consola\n",
        "color1 = Fore.GREEN\n",
        "color2 = Fore.MAGENTA\n",
        "color3 = Fore.YELLOW\n",
        "color4 = Fore.CYAN\n",
        "\n",
        "# Negrita, lo hace en codigo ANSI\n",
        "negrita = '\\033[1m'\n",
        "reset = Fore.RESET + '\\033[0m'\n",
        "\n",
        "\n",
        "clear_output() # indica para que limpie la consola\n",
        "for i in range(4):\n",
        "  color= eval(f\"color{i+1}\")\n",
        "  xp_player = eval(f\"xp_player{i+1}\")\n",
        "  print(f\"{negrita}{color}Jugador {i+1} acaba de ganar: {xp_player} de xp.{reset}\")\n",
        "\n",
        "#aqui uso la funcion eval para que cambie entre cada xp de cada jugador y lo de i+1 es para que añada 1 valor mas a lo que ya había\n",
        "# Uso de eval para acceder a variables dinámicamente(lo de arriba)\n",
        "# (Alternativa temporal hasta aprender estructuras de datos)"
      ],
      "metadata": {
        "colab": {
          "base_uri": "https://localhost:8080/"
        },
        "id": "7yGklo2rgQfX",
        "outputId": "a1d3d782-e78a-4f71-8b04-d3f629284958"
      },
      "execution_count": 8,
      "outputs": [
        {
          "output_type": "stream",
          "name": "stdout",
          "text": [
            "\u001b[1m\u001b[32mJugador 1 acaba de ganar: 1500 de xp.\u001b[39m\u001b[0m\n",
            "\u001b[1m\u001b[35mJugador 2 acaba de ganar: 2400 de xp.\u001b[39m\u001b[0m\n",
            "\u001b[1m\u001b[33mJugador 3 acaba de ganar: 4000 de xp.\u001b[39m\u001b[0m\n",
            "\u001b[1m\u001b[36mJugador 4 acaba de ganar: 1500 de xp.\u001b[39m\u001b[0m\n"
          ]
        }
      ]
    },
    {
      "cell_type": "markdown",
      "source": [
        "#**Desafío 1.2: Generador de playlists**\n",
        "Crea una función duracion_playlist(canciones,\n",
        "duracion_promedio), que calcule la duración total de una playlist.\n",
        "\n",
        "\n",
        "Usa un bucle para calcular la duración de 3 playlists diferentes:\n",
        "\n",
        "\n",
        "● Playlist \"Relax\": 25 canciones, 4 minutos promedio\n",
        "\n",
        "● Playlist \"Workout\": 30 canciones, 3.5 minutos promedio\n",
        "\n",
        "● Playlist \"Estudio\": 40 canciones, 5 minutos promedio"
      ],
      "metadata": {
        "id": "nd-J9335uPz2"
      }
    },
    {
      "cell_type": "code",
      "source": [
        "#duración total de una playlist, Desafío 1.2, Generador de Playlist:\n",
        "\n",
        "def duracion_playlist(canciones, duracion_promedio):\n",
        "\n",
        "# definir la funcion de la playist\n",
        "\n",
        "  duracion_total = canciones * duracion_promedio\n",
        "\n",
        "  return duracion_total\n",
        "\n",
        "#valores de la playlist, sea nombre y duración\n",
        "nombreplaylist1 = \"Relax\"\n",
        "nombreplaylist2 = \"Workout\"\n",
        "nombreplaylist3 = \"Estudio\"\n",
        "\n",
        "duracion1 = duracion_playlist(25, 4)\n",
        "duracion2 = duracion_playlist(30, 3.5)\n",
        "duracion3 = duracion_playlist(40, 5)\n",
        "\n",
        "#añade negrita y resetea el formato de la consola en formato ANSI\n",
        "negrita = '\\033[1m'\n",
        "reset = '\\033[0m'\n",
        "\n",
        "for i in range(3):\n",
        "  nombre = eval(f\"nombreplaylist{i+1}\")\n",
        "  #añade 1 valor a cada nombre así cambia cada una usando la funcion eval()\n",
        "  duracion_total = eval(f\"duracion{i+1}\")\n",
        "  #añade 1 valor a cada duracion así cambia cada una usando la funcion eval()\n",
        "\n",
        "# Uso de eval para acceder a variables dinámicamente\n",
        "# (Alternativa temporal hasta aprender estructuras de datos)\n",
        "\n",
        "  print(f\"La duración de la playlist {negrita}{nombre}{reset} es de: {negrita}{int(duracion_total)}{reset} minutos.\")\n",
        "  \"\"\"ocupar la funcion int dentro de duracion total,\n",
        "     para evitar problemas en caso de que fuera decimal\"\"\"\n"
      ],
      "metadata": {
        "colab": {
          "base_uri": "https://localhost:8080/"
        },
        "id": "-R8JFF6quuda",
        "outputId": "a63aa0f4-d543-4ed0-9b91-6a06a03d8f82"
      },
      "execution_count": null,
      "outputs": [
        {
          "output_type": "stream",
          "name": "stdout",
          "text": [
            "La duración de la playlist \u001b[1mRelax\u001b[0m es de: \u001b[1m100\u001b[0m minutos.\n",
            "La duración de la playlist \u001b[1mWorkout\u001b[0m es de: \u001b[1m105\u001b[0m minutos.\n",
            "La duración de la playlist \u001b[1mEstudio\u001b[0m es de: \u001b[1m200\u001b[0m minutos.\n"
          ]
        }
      ]
    },
    {
      "cell_type": "markdown",
      "source": [
        "# **Nivel 2: Redes Sociales y Streaming (40 minutos)**\n",
        "\n",
        "#**Desafío 2.1: Algoritmo de engagement**\n",
        "\n",
        "**Crea una función** calcular_engagement(likes, comentarios,\n",
        "shares, seguidores)\n",
        "\n",
        "que calcule el porcentaje de engagement\n",
        "usando:\n",
        "\n",
        "(likes + comentarios + shares) / seguidores × 100.\n",
        "\n",
        "\n",
        "Usa un bucle para analizar 5 posts de un influencer:\n",
        "\n",
        "\n",
        "● Post 1: 150 likes, 20 comentarios, 5 shares, 1000 seguidores\n",
        "\n",
        "● Post 2: 300 likes, 45 comentarios, 15 shares, 1000 seguidores\n",
        "\n",
        "● Post 3: 80 likes, 10 comentarios, 2 shares, 1000 seguidores\n",
        "\n",
        "● Post 4: 500 likes, 75 comentarios, 25 shares, 1000 seguidores\n",
        "\n",
        "● Post 5: 200 likes, 30 comentarios, 8 shares, 1000 seguidores"
      ],
      "metadata": {
        "id": "ETGH1SQnPeJt"
      }
    },
    {
      "cell_type": "code",
      "source": [
        "#Desafío 2.1: Algoritmo de engagement\n",
        "def calcular_engagement(likes, comentarios, shares, seguidores):\n",
        "\n",
        "  engagement = (likes + comentarios + shares) / seguidores * 100\n",
        "\n",
        "  return engagement\n",
        "\n",
        "post1 = calcular_engagement(150, 20, 5, 1000)\n",
        "post2 = calcular_engagement(300, 45, 15, 1000)\n",
        "post3 = calcular_engagement(80, 10, 2, 1000)\n",
        "post4 = calcular_engagement(500, 75, 25, 1000)\n",
        "post5 = calcular_engagement(200, 30, 8, 1000)\n",
        "\n",
        "negrita = '\\033[1m'\n",
        "reset = '\\033[0m'\n",
        "\n",
        "for i in range(5):\n",
        "    post = eval(f\"post{i+1}\")\n",
        "# Uso de eval para acceder a variables dinámicamente(lo de arriba)\n",
        "# (Alternativa temporal hasta aprender estructuras de datos)\n",
        "\n",
        "    print(f\"El porcentaje de engagement del post {negrita}{i+1}{reset} es de: {negrita}{post:.2f}%{reset}.\")\n",
        "# :.2f recorto a 2 decimales para mejor vista"
      ],
      "metadata": {
        "colab": {
          "base_uri": "https://localhost:8080/"
        },
        "id": "oWew3SX7PXuD",
        "outputId": "3f0a3405-71c8-40d5-a48b-5cdb391e9d87"
      },
      "execution_count": null,
      "outputs": [
        {
          "output_type": "stream",
          "name": "stdout",
          "text": [
            "El porcentaje de engagement del post \u001b[1m1\u001b[0m es de: \u001b[1m17.50%\u001b[0m.\n",
            "El porcentaje de engagement del post \u001b[1m2\u001b[0m es de: \u001b[1m36.00%\u001b[0m.\n",
            "El porcentaje de engagement del post \u001b[1m3\u001b[0m es de: \u001b[1m9.20%\u001b[0m.\n",
            "El porcentaje de engagement del post \u001b[1m4\u001b[0m es de: \u001b[1m60.00%\u001b[0m.\n",
            "El porcentaje de engagement del post \u001b[1m5\u001b[0m es de: \u001b[1m23.80%\u001b[0m.\n"
          ]
        }
      ]
    },
    {
      "cell_type": "markdown",
      "source": [
        "# **Desafío 2.2: Calculadora de streaming**\n",
        "**Diseña una función ingresos_streaming**(visualizaciones,\n",
        "cpm)\n",
        "\n",
        "**que calcule los ingresos de un YouTuber.**\n",
        "\n",
        "CPM = costo por mil visualizaciones.\n",
        "\n",
        "\n",
        "Usa un bucle para calcular los ingresos de 3 videos:\n",
        "\n",
        "\n",
        "● Video 1: 50,000 visualizaciones, CPM $2.5\n",
        "\n",
        "● Video 2: 120,000 visualizaciones, CPM $3.0\n",
        "\n",
        "● Video 3: 25,000 visualizaciones, CPM $1.8"
      ],
      "metadata": {
        "id": "PjlB7_S6RkNP"
      }
    },
    {
      "cell_type": "code",
      "source": [
        "#Desafío 2.2: Calculadora de streaming\n",
        "\n",
        "def ingresos_streaming(visualizaciones, cpm):\n",
        "\n",
        "  ingresos = visualizaciones * cpm / 1000\n",
        "\n",
        "  return ingresos\n",
        "\n",
        "video1 = ingresos_streaming(50000, 2.5) #video1 tuvo 50k de visualizaciones y tuvo un cpm de $2.5 por cada 1k de visualizaciones\n",
        "video2 = ingresos_streaming(120000, 3.0)\n",
        "video3 = ingresos_streaming(25000, 1.8)\n",
        "\n",
        "negrita = '\\033[1m'\n",
        "reset = '\\033[0m'\n",
        "\n",
        "for i in range(3):\n",
        "  video = eval(f\"video{i+1}\")\n",
        "\n",
        "# Uso de eval para acceder a variables dinámicamente(lo de arriba)\n",
        "# (Alternativa temporal hasta aprender estructuras de datos)\n",
        "\n",
        "  print(f\"Los ingresos del video {negrita}N°{i+1}{reset} son de: {negrita}${video:.2f}{reset}\")\n",
        "  #añado 1 decimal más los ingresos porque según yo son dolares, por lo que esos tienen dos 0"
      ],
      "metadata": {
        "colab": {
          "base_uri": "https://localhost:8080/"
        },
        "id": "vGB0oQoKRjhN",
        "outputId": "b8392f39-9cfc-424d-d72b-02d7731bfa15"
      },
      "execution_count": null,
      "outputs": [
        {
          "output_type": "stream",
          "name": "stdout",
          "text": [
            "Los ingresos del video \u001b[1mN°1\u001b[0m son de: \u001b[1m$125.00\u001b[0m\n",
            "Los ingresos del video \u001b[1mN°2\u001b[0m son de: \u001b[1m$360.00\u001b[0m\n",
            "Los ingresos del video \u001b[1mN°3\u001b[0m son de: \u001b[1m$45.00\u001b[0m\n"
          ]
        }
      ]
    },
    {
      "cell_type": "markdown",
      "source": [
        "# **Nivel 3: Delivery y Apps (45 minutos)**\n",
        "\n",
        "\n",
        "#**Desafío 3.1: Calculadora de delivery**\n",
        "\n",
        "Crea una función **calcular_delivery(distancia_km,\n",
        "tiempo_base, precio_km)**\n",
        "\n",
        "que calcule:\n",
        "\n",
        "● Tiempo estimado: tiempo_base + (distancia_km × 2) minutos\n",
        "\n",
        "● Costo: precio_km × distancia_km\n",
        "Usa un bucle para calcular 4 pedidos:\n",
        "\n",
        "● Pedido 1: 3 km, tiempo base 15 min, $800 por km\n",
        "\n",
        "● Pedido 2: 7 km, tiempo base 15 min, $800 por km\n",
        "\n",
        "\n",
        "● Pedido 3: 1.5 km, tiempo base 15 min, $800 por km\n",
        "\n",
        "● Pedido 4: 12 km, tiempo base 15 min, $800 por km"
      ],
      "metadata": {
        "id": "Idd2o5UOhNmH"
      }
    },
    {
      "cell_type": "code",
      "source": [
        "#Desafío 3.1: Calculadora de delivery\n",
        "def delivery(km, timebase, pricekm):\n",
        "\n",
        "#definir distancia km, el tiempo base y el precio por km\n",
        "\n",
        "  estimed_time = timebase + (km * 2)\n",
        "  cost = km * pricekm\n",
        "\n",
        "  return estimed_time, cost\n",
        "#ordenes de cada pedido\n",
        "order1 = delivery(3, 15, 800)\n",
        "order2 = delivery(7, 15, 800)\n",
        "order3 = delivery(1.5, 15, 800)\n",
        "order4 = delivery(12, 15, 800)\n",
        "\n",
        "negrita = '\\033[1m'\n",
        "reset = '\\033[0m'\n",
        "#decoraciones para la consola\n",
        "for i in range(4):\n",
        "  tiempo, costo = eval(f\"order{i+1}\")\n",
        "\n",
        "  \"\"\"pido que en cada pedido ya me de el tiempo y el costo,\n",
        "  es más facil de hacer y como no hay listas es lo más cercano\"\"\"\n",
        "\n",
        "# Uso de eval para acceder a variables dinámicamente(lo de arriba)\n",
        "# (Alternativa temporal hasta aprender estructuras de datos)\n",
        "\n",
        "  print(f\"El tiempo estimado del pedido {negrita}N°{i+1}{reset} es de: {negrita}{tiempo:.0f} minutos.{reset}\")\n",
        "  #le pedi al tiempo que recortara decimales porque no habian pero el print si los colocaba"
      ],
      "metadata": {
        "colab": {
          "base_uri": "https://localhost:8080/"
        },
        "id": "F82j_9BbhryW",
        "outputId": "1596aefb-ca5e-4446-e9ca-68e527ef2174"
      },
      "execution_count": null,
      "outputs": [
        {
          "output_type": "stream",
          "name": "stdout",
          "text": [
            "El tiempo estimado del pedido \u001b[1mN°1\u001b[0m es de: \u001b[1m21 minutos.\u001b[0m\n",
            "El tiempo estimado del pedido \u001b[1mN°2\u001b[0m es de: \u001b[1m29 minutos.\u001b[0m\n",
            "El tiempo estimado del pedido \u001b[1mN°3\u001b[0m es de: \u001b[1m18 minutos.\u001b[0m\n",
            "El tiempo estimado del pedido \u001b[1mN°4\u001b[0m es de: \u001b[1m39 minutos.\u001b[0m\n"
          ]
        }
      ]
    },
    {
      "cell_type": "markdown",
      "source": [
        "#Desafío 3.2: Economía de app de transporte\n",
        "\n",
        "Crea una función **calcular_viaje(distancia, tarifa_base,\n",
        "tarifa_km, multiplicador_demanda)**\n",
        "\n",
        "que calcule el precio de un\n",
        "viaje en app como Uber.\n",
        "\n",
        "\n",
        "\n",
        "Fórmula:\n",
        "\n",
        "(tarifa_base + distancia × tarifa_km) × multiplicador_demanda\n",
        "\n",
        "\n",
        "Calcula 3 viajes con diferentes multiplicadores de demanda:\n",
        "\n",
        "\n",
        "● Viaje 1: 5 km, tarifa base $1500, $400/km, multiplicador 1.0 (normal)\n",
        "\n",
        "● Viaje 2: 5 km, tarifa base $1500, $400/km, multiplicador 1.5 (alta\n",
        "demanda)\n",
        "\n",
        "● Viaje 3: 5 km, tarifa base $1500, $400/km, multiplicador 2.0 (hora\n",
        "peak)"
      ],
      "metadata": {
        "id": "FKEZoCRbjgJj"
      }
    },
    {
      "cell_type": "code",
      "source": [
        "#Desafío 3.2: Economía de app de transporte\n",
        "def travel(distance, baseprice, ratekm, demand):\n",
        "#defino el viaje con distancia, tarifa base, tarifa km y la demanda (la cual sea normal, alta o peak)\n",
        "  price = (baseprice + distance * ratekm) * demand\n",
        "  return price\n",
        "\n",
        "travel1 = travel(5, 1500, 400, 1.0)\n",
        "travel2 = travel(5, 1500, 400, 1.5)\n",
        "travel3 = travel(5, 1500, 400, 2.0)\n",
        "\n",
        "negrita = '\\033[1m'\n",
        "reset = '\\033[0m'\n",
        "#decoraciones para la consola\n",
        "\n",
        "for i in range(3): #repetir 3 veces el calculo del precio de los 3 viajes y colocarlos en la consola\n",
        "  price = eval(f\"travel{i+1}\")\n",
        "# Uso de eval para acceder a variables dinámicamente(lo de arriba)\n",
        "# (Alternativa temporal hasta aprender estructuras de datos)\n",
        "  print(f\"El precio del viaje {negrita}N°{i+1}{reset} es de :{negrita}${price}{negrita}{reset}\")"
      ],
      "metadata": {
        "colab": {
          "base_uri": "https://localhost:8080/"
        },
        "id": "ltgR0-EZjf5F",
        "outputId": "7f44dcd8-9a3f-4880-dfbe-6503019b748d"
      },
      "execution_count": null,
      "outputs": [
        {
          "output_type": "stream",
          "name": "stdout",
          "text": [
            "El precio del viaje \u001b[1mN°1\u001b[0m es de :\u001b[1m$3500.0\u001b[1m\u001b[0m\n",
            "El precio del viaje \u001b[1mN°2\u001b[0m es de :\u001b[1m$5250.0\u001b[1m\u001b[0m\n",
            "El precio del viaje \u001b[1mN°3\u001b[0m es de :\u001b[1m$7000.0\u001b[1m\u001b[0m\n"
          ]
        }
      ]
    }
  ]
}