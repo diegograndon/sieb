{
  "nbformat": 4,
  "nbformat_minor": 0,
  "metadata": {
    "colab": {
      "provenance": [],
      "include_colab_link": true
    },
    "kernelspec": {
      "name": "python3",
      "display_name": "Python 3"
    },
    "language_info": {
      "name": "python"
    }
  },
  "cells": [
    {
      "cell_type": "markdown",
      "metadata": {
        "id": "view-in-github",
        "colab_type": "text"
      },
      "source": [
        "<a href=\"https://colab.research.google.com/github/diegograndon/sieb/blob/main/12.buller/Copia_de_Desaf%C3%ADos_cap%C3%ADtulo_1_y_2_(hacer_copia_y_entregar_en_tarea_de_classroom).ipynb\" target=\"_parent\"><img src=\"https://colab.research.google.com/assets/colab-badge.svg\" alt=\"Open In Colab\"/></a>"
      ]
    },
    {
      "cell_type": "markdown",
      "source": [
        "# Desafíos de Pensamiento Computacional y Programación en Python\n",
        "\n",
        "*Basados en los capítulos 1 y 2 del libro \"Think Python\" de Allen Downey*\n",
        "\n",
        "## Instrucciones para el estudiante\n",
        "\n",
        "Este notebook contiene una serie de desafíos de programación en Python organizados por nivel de dificultad. Cada desafío te permitirá poner en práctica los conceptos que hemos aprendido hasta ahora en el curso. Recuerda:\n",
        "\n",
        "- Puedes usar solo los conceptos vistos en el capítulo 1 completo y los elementos básicos del capítulo 2.\n",
        "- Es importante que intentes resolver los problemas por ti mismo antes de pedir ayuda.\n",
        "- Documenta tu código utilizando comentarios para explicar tu razonamiento.\n",
        "- Prueba tus soluciones con diferentes entradas para verificar que funcionan correctamente.\n",
        "\n",
        "---\n",
        "\n",
        "## **Nivel 1: Primeros Pasos**\n",
        "\n",
        "**Desafío 1.1: Explorando el intérprete**\n",
        "\n",
        "Utiliza el intérprete de Python como una calculadora para resolver las siguientes operaciones:\n",
        "- Calcula el área de un círculo con radio 5 (recuerda que Área = π × r²)\n",
        "\n"
      ],
      "metadata": {
        "id": "tRCRCmArhlzD"
      }
    },
    {
      "cell_type": "code",
      "source": [
        "import math\n",
        "\n",
        "radio = 5\n",
        "area = math.pi * radio ** 2\n",
        "print(f\"El área del círculo es: {area}\")"
      ],
      "metadata": {
        "id": "PkkwLe7OhmmE",
        "outputId": "b73bb3f6-0297-4872-8485-13f11898f2b8",
        "colab": {
          "base_uri": "https://localhost:8080/"
        }
      },
      "execution_count": 2,
      "outputs": [
        {
          "output_type": "stream",
          "name": "stdout",
          "text": [
            "El área del círculo es: 78.53981633974483\n"
          ]
        }
      ]
    },
    {
      "cell_type": "markdown",
      "source": [
        "- Calcula cuántos segundos hay en 5 horas, 30 minutos y 15 segundos\n"
      ],
      "metadata": {
        "id": "rh-wUCoGh6pS"
      }
    },
    {
      "cell_type": "code",
      "source": [
        "horas = 5\n",
        "minutos = 30\n",
        "segundos = 15\n",
        "\n",
        "total_segundos = horas * 3600 + minutos * 60 + segundos\n",
        "print(f\"El total de segundos es: {total_segundos}\")"
      ],
      "metadata": {
        "id": "s_p71yOyh-Vg",
        "outputId": "6f0ea762-a630-47b5-c580-8e832e6031ab",
        "colab": {
          "base_uri": "https://localhost:8080/"
        }
      },
      "execution_count": 3,
      "outputs": [
        {
          "output_type": "stream",
          "name": "stdout",
          "text": [
            "El total de segundos es: 19815\n"
          ]
        }
      ]
    },
    {
      "cell_type": "markdown",
      "source": [
        "- Calcula tu edad exacta en días (aproximadamente)"
      ],
      "metadata": {
        "id": "1mDzvOHah-2C"
      }
    },
    {
      "cell_type": "code",
      "source": [
        "edad_años = 17  # Reemplaza esto con tu edad actual\n",
        "dias_por_año = 365.25  # Considera años bisiestos\n",
        "\n",
        "edad_dias = edad_años * dias_por_año\n",
        "print(f\"Tu edad en días es aproximadamente: {edad_dias}\")\n"
      ],
      "metadata": {
        "id": "Ow_lZuBzh_jW",
        "outputId": "23de2222-638b-4305-aeff-3f4790d3fff5",
        "colab": {
          "base_uri": "https://localhost:8080/"
        }
      },
      "execution_count": 4,
      "outputs": [
        {
          "output_type": "stream",
          "name": "stdout",
          "text": [
            "Tu edad en días es aproximadamente: 6209.25\n"
          ]
        }
      ]
    },
    {
      "cell_type": "markdown",
      "source": [
        "---\n",
        "**Desafío 1.2: Errores y depuración**\n",
        "\n",
        "Identifica y corrige los errores en los siguientes códigos:\n",
        "\n",
        "1. print(\"Hola mundo\"\n",
        "\n",
        "2. print(5 + * 2)   \n",
        "\n",
        "\n",
        "3. print(10 / 0)\n"
      ],
      "metadata": {
        "id": "kjeKdAqdMOd-"
      }
    },
    {
      "cell_type": "markdown",
      "source": [
        "Respuesta desafío 1.2\n",
        "\n",
        "\n",
        "*escribir acá las explicaciones de cada error*\n",
        "\n",
        "\n"
      ],
      "metadata": {
        "id": "QaH0_ZPBMdLE"
      }
    },
    {
      "cell_type": "markdown",
      "source": [
        "1.\n",
        "**Respuesta** Error: Falta el paréntesis de cierre.\n",
        "\n",
        "Corrección: ```python print(\"Hola mundo\")\n",
        "\n",
        "2.\n",
        "**Respuesta** Error: El operador * está mal ubicado.\n",
        "\n",
        "Corrección: ```python print(5 * 2)\n",
        "\n",
        "3.\n",
        "**Respuesta** Error: División por cero.\n",
        "\n",
        "Corrección: Evitar la división por cero, ya que genera una excepción en tiempo de ejecución."
      ],
      "metadata": {
        "id": "FGph4kuvKekN"
      }
    },
    {
      "cell_type": "markdown",
      "source": [
        "---\n",
        "**Desafío 1.3: Secuencia de operaciones**\n",
        "\n",
        "Escribe una expresión que convierta una temperatura de 98.6 grados Fahrenheit a Celsius. La fórmula es: C = (F - 32) × 5/9.\n"
      ],
      "metadata": {
        "id": "mUeB90JBNQS7"
      }
    },
    {
      "cell_type": "code",
      "source": [
        "fahrenheit = 98.6\n",
        "celsius = (fahrenheit - 32) * 5 / 9\n",
        "print(f\"{fahrenheit} grados Fahrenheit son {celsius} grados Celsius\")\n"
      ],
      "metadata": {
        "id": "2sc61zARNT0l",
        "outputId": "8a869338-fb23-495c-a4f8-cddaec0b4161",
        "colab": {
          "base_uri": "https://localhost:8080/"
        }
      },
      "execution_count": 5,
      "outputs": [
        {
          "output_type": "stream",
          "name": "stdout",
          "text": [
            "98.6 grados Fahrenheit son 37.0 grados Celsius\n"
          ]
        }
      ]
    },
    {
      "cell_type": "markdown",
      "source": [
        "---\n",
        "## **Nivel 2: Variables y Expresiones**\n",
        "\n",
        "**Desafío 2.1: Manipulación de variables**\n",
        "\n",
        "Escribe un programa que:\n",
        "\n",
        "1.   Cree una variable llamada nombre con tu nombre\n",
        "2.  Cree una variable llamada edad con tu edad\n",
        "3.  Calcule e imprima cuántos años tendrás en 2030\n",
        "4.  Imprima un mensaje que diga \"Hola [nombre], en 2030 tendrás [edad en 2030] años\"\n"
      ],
      "metadata": {
        "id": "aPj-4BfPNYPQ"
      }
    },
    {
      "cell_type": "code",
      "source": [
        "nombre = \"simon\"  # Reemplaza con tu nombre\n",
        "edad = 17            # Reemplaza con tu edad actual\n",
        "año_futuro = 2030\n",
        "\n",
        "edad_en_2030 = edad + (año_futuro - 2025)\n",
        "print(f\"Hola {nombre}, en {año_futuro} tendrás {edad_en_2030} años\")\n"
      ],
      "metadata": {
        "id": "xxRuGIYLN7EJ",
        "outputId": "a5109746-df45-4f41-ba12-6ffeca763461",
        "colab": {
          "base_uri": "https://localhost:8080/"
        }
      },
      "execution_count": 8,
      "outputs": [
        {
          "output_type": "stream",
          "name": "stdout",
          "text": [
            "Hola simon, en 2030 tendrás 22 años\n"
          ]
        }
      ]
    },
    {
      "cell_type": "markdown",
      "source": [
        "**Desafío 2.2: Calculadora de tiempo**\n",
        "\n",
        "Escribe un programa que convierta un número de segundos ingresado a su equivalente en horas, minutos y segundos. Por ejemplo, 3661 segundos deberían mostrar: 1 hora, 1 minuto y 1 segundo.\n"
      ],
      "metadata": {
        "id": "Pkm4a5vpN77E"
      }
    },
    {
      "cell_type": "code",
      "source": [
        "def convertir_segundos(segundos):\n",
        "    # Dividimos los segundos entre 3600 para obtener las horas\n",
        "    horas = segundos // 3600\n",
        "    # Obtenemos los minutos restantes\n",
        "    minutos = (segundos % 3600) // 60\n",
        "    # Los segundos restantes después de calcular minutos\n",
        "    segundos_restantes = segundos % 60\n",
        "\n",
        "    # Devolvemos el resultado\n",
        "    return horas, minutos, segundos_restantes\n",
        "\n",
        "# Pedimos el número de segundos al usuario\n",
        "segundos_input = int(input(\"Ingresa el número de segundos: \"))\n",
        "\n",
        "# Llamamos a la función para convertir los segundos\n",
        "horas, minutos, segundos_restantes = convertir_segundos(segundos_input)\n",
        "\n",
        "# Mostramos el resultado final\n",
        "print(f\"{horas} hora(s), {minutos} minuto(s), {segundos_restantes} segundo(s)\")\n"
      ],
      "metadata": {
        "id": "k6w-aiElOAAP",
        "outputId": "643df7dd-918e-40da-a211-9fed4eee1923",
        "colab": {
          "base_uri": "https://localhost:8080/"
        }
      },
      "execution_count": 14,
      "outputs": [
        {
          "output_type": "stream",
          "name": "stdout",
          "text": [
            "Ingresa el número de segundos: 89752\n",
            "24 hora(s), 55 minuto(s), 52 segundo(s)\n"
          ]
        }
      ]
    },
    {
      "cell_type": "markdown",
      "source": [
        "**Desafío 2.3: Intercambio de valores**\n",
        "\n",
        "Escribe un programa que tenga dos variables a y b con valores iniciales 5 y 10 respectivamente. Tu programa debe intercambiar los valores de estas variables e imprimir los resultados antes y después del intercambio."
      ],
      "metadata": {
        "id": "MdkJZL2QOAT2"
      }
    },
    {
      "cell_type": "code",
      "source": [
        "# Inicializamos las variables\n",
        "a = 5\n",
        "b = 10\n",
        "\n",
        "# Imprimimos los valores antes del intercambio\n",
        "print(f\"Antes del intercambio: a = {a}, b = {b}\")\n",
        "\n",
        "# Intercambiamos los valores de a y b\n",
        "a, b = b, a\n",
        "\n",
        "# Imprimimos los valores después del intercambio\n",
        "print(f\"Después del intercambio: a = {a}, b = {b}\")\n"
      ],
      "metadata": {
        "id": "A69_HiYzOIxy",
        "outputId": "2bb272ca-1308-4a67-b073-71359b7224ca",
        "colab": {
          "base_uri": "https://localhost:8080/"
        }
      },
      "execution_count": 15,
      "outputs": [
        {
          "output_type": "stream",
          "name": "stdout",
          "text": [
            "Antes del intercambio: a = 5, b = 10\n",
            "Después del intercambio: a = 10, b = 5\n"
          ]
        }
      ]
    },
    {
      "cell_type": "markdown",
      "source": [
        "---\n",
        "## **Nivel 3: Operaciones y Tipos de Datos**\n",
        "\n",
        "**Desafío 3.1: Operadores aritméticos**\n",
        "\n",
        "Crea un programa que calcule:\n",
        "1. El área y perímetro de un rectángulo con dimensiones 4 x 7\n",
        "2. El volumen de una esfera de radio 3 (V = 4/3 × π × r³)\n",
        "3. La distancia entre dos puntos (3,4) y (6,8) usando la fórmula: d = sqrt[(x₂ - x₁)² + (y₂ - y₁)²]\n"
      ],
      "metadata": {
        "id": "pDBGLRNmOWxY"
      }
    },
    {
      "cell_type": "code",
      "source": [
        "import math  # Importamos el módulo math para usar π y sqrt\n",
        "\n",
        "# 1. Calcular el área y el perímetro de un rectángulo con dimensiones 4 x 7\n",
        "largo = 4\n",
        "ancho = 7\n",
        "\n",
        "area_rectangulo = largo * ancho\n",
        "perimetro_rectangulo = 2 * (largo + ancho)\n",
        "\n",
        "print(f\"Área del rectángulo: {area_rectangulo}\")\n",
        "print(f\"Perímetro del rectángulo: {perimetro_rectangulo}\")\n",
        "\n",
        "# 2. Calcular el volumen de una esfera de radio 3 (V = 4/3 × π × r³)\n",
        "radio = 3\n",
        "volumen_esfera = (4/3) * math.pi * (radio ** 3)\n",
        "\n",
        "print(f\"Volumen de la esfera: {volumen_esfera:.2f}\")\n",
        "\n",
        "# 3. Calcular la distancia entre dos puntos (3,4) y (6,8) usando la fórmula: d = sqrt[(x₂ - x₁)² + (y₂ - y₁)²]\n",
        "x1, y1 = 3, 4\n",
        "x2, y2 = 6, 8\n",
        "\n",
        "distancia = math.sqrt((x2 - x1) ** 2 + (y2 - y1) ** 2)\n",
        "\n",
        "print(f\"Distancia entre los puntos: {distancia:.2f}\")\n",
        "\n"
      ],
      "metadata": {
        "id": "sKDoom0JOc_z",
        "outputId": "a5c6c88f-9edd-452f-f40b-5746e38b78ab",
        "colab": {
          "base_uri": "https://localhost:8080/"
        }
      },
      "execution_count": 21,
      "outputs": [
        {
          "output_type": "stream",
          "name": "stdout",
          "text": [
            "Área del rectángulo: 28\n",
            "Perímetro del rectángulo: 22\n",
            "Volumen de la esfera: 113.10\n",
            "Distancia entre los puntos: 5.00\n"
          ]
        }
      ]
    },
    {
      "cell_type": "markdown",
      "source": [
        "**Desafío 3.2: Divisiones y módulo**\n",
        "\n",
        "Escribe un programa que:\n",
        "*   Calcule la división entera de 17 entre 5\n",
        "*   Calcule el resto de esa división\n",
        "*   Verifique que usando ambos resultados puedes reconstruir el número 17\n",
        "\n"
      ],
      "metadata": {
        "id": "pFsoV4D3Odg5"
      }
    },
    {
      "cell_type": "code",
      "source": [
        "# 1. Calcular la división entera de 17 entre 5\n",
        "division_entera = 17 // 5\n",
        "print(f\"La división entera de 17 entre 5 es: {division_entera}\")\n",
        "\n",
        "# 2. Calcular el resto de esa división\n",
        "resto = 17 % 5\n",
        "print(f\"El resto de la división de 17 entre 5 es: {resto}\")\n",
        "\n",
        "# 3. Verificar que usando ambos resultados podemos reconstruir el número 17\n",
        "reconstruccion = (division_entera * 5) + resto\n",
        "print(f\"Usando la división entera y el resto, reconstruimos el número: {reconstruccion}\")\n"
      ],
      "metadata": {
        "id": "-zRohDGbOeqU",
        "outputId": "0f4643bb-1f0a-4425-a8f6-8b14cfe23894",
        "colab": {
          "base_uri": "https://localhost:8080/"
        }
      },
      "execution_count": 17,
      "outputs": [
        {
          "output_type": "stream",
          "name": "stdout",
          "text": [
            "La división entera de 17 entre 5 es: 3\n",
            "El resto de la división de 17 entre 5 es: 2\n",
            "Usando la división entera y el resto, reconstruimos el número: 17\n"
          ]
        }
      ]
    },
    {
      "cell_type": "markdown",
      "source": [
        "**Desafío 3.3: Conversiones de tipos**\n",
        "\n",
        "Crea un programa que:\n",
        "1. Convierta el número 3.14159 a entero de dos maneras diferentes (truncando y redondeando).\n",
        "2. Convierta el texto \"42\" a un número entero y luego realice una operación matemática con él (imprimir algún ejemplo).\n",
        "3. Convierta un número entero (elige alguno) a string y logra concatenarlo a un texto.\n",
        "\n",
        "En los tres casos se debe imprimir el resultado con un mensaje explicativo.\n"
      ],
      "metadata": {
        "id": "ZHm2Y_iBOe9f"
      }
    },
    {
      "cell_type": "code",
      "source": [
        "# 1. Convertir el número 3.14159 a entero de dos maneras diferentes\n",
        "# a) Truncando\n",
        "numero_truncado = int(3.14159)  # Esto quita la parte decimal\n",
        "print(f\"El número 3.14159 truncado es: {numero_truncado}\")\n",
        "\n",
        "# b) Redondeando\n",
        "numero_redondeado = round(3.14159)  # Esto redondea al entero más cercano\n",
        "print(f\"El número 3.14159 redondeado es: {numero_redondeado}\")\n",
        "\n",
        "# 2. Convertir el texto \"42\" a un número entero y luego realizar una operación matemática\n",
        "texto = \"42\"\n",
        "numero_entero = int(texto)  # Convertir el texto a entero\n",
        "resultado_operacion = numero_entero + 10  # Realizar una operación\n",
        "print(f\"El texto '42' convertido a número entero es: {numero_entero}, y sumarle 10 da: {resultado_operacion}\")\n",
        "\n",
        "# 3. Convertir un número entero (elijo 15) a string y concatenarlo a un texto\n",
        "numero_entero = 15\n",
        "texto_concatenado = \"El número es: \" + str(numero_entero)  # Convertir el número a string y concatenarlo\n",
        "print(f\"La concatenación del número entero 15 con el texto es: {texto_concatenado}\")\n"
      ],
      "metadata": {
        "id": "DAjHRWyjOfmG",
        "outputId": "67882212-447c-4293-8e13-41f031e39851",
        "colab": {
          "base_uri": "https://localhost:8080/"
        }
      },
      "execution_count": 18,
      "outputs": [
        {
          "output_type": "stream",
          "name": "stdout",
          "text": [
            "El número 3.14159 truncado es: 3\n",
            "El número 3.14159 redondeado es: 3\n",
            "El texto '42' convertido a número entero es: 42, y sumarle 10 da: 52\n",
            "La concatenación del número entero 15 con el texto es: El número es: 15\n"
          ]
        }
      ]
    },
    {
      "cell_type": "markdown",
      "source": [
        "---\n",
        "## **Nivel 4: Retos de Integración**\n",
        "\n",
        "**Desafío 4.1: Calculadora de IMC**\n",
        "\n",
        "Crea un programa que calcule el Índice de Masa Corporal (IMC).\n",
        "El programa debe:\n",
        "1. Declarar variables para la altura (en metros) y el peso (en kilogramos)\n",
        "2. Calcular el IMC usando la fórmula: IMC = peso / altura²\n",
        "3. Imprimir el resultado con un mensaje explicativo"
      ],
      "metadata": {
        "id": "waVK_e9LPMpH"
      }
    },
    {
      "cell_type": "code",
      "source": [
        "# 1. Declarar variables para la altura (en metros) y el peso (en kilogramos)\n",
        "peso = 70  # Peso en kilogramos\n",
        "altura = 1.75  # Altura en metros\n",
        "\n",
        "# 2. Calcular el IMC usando la fórmula: IMC = peso / altura²\n",
        "imc = peso / (altura ** 2)\n",
        "\n",
        "# 3. Imprimir el resultado con un mensaje explicativo\n",
        "print(f\"Tu IMC es: {imc:.2f}\")  # El resultado se muestra con dos decimales\n"
      ],
      "metadata": {
        "id": "IHRG34HAPcU-",
        "outputId": "ca486908-f0e4-467f-aaf7-9ade331cd953",
        "colab": {
          "base_uri": "https://localhost:8080/"
        }
      },
      "execution_count": 19,
      "outputs": [
        {
          "output_type": "stream",
          "name": "stdout",
          "text": [
            "Tu IMC es: 22.86\n"
          ]
        }
      ]
    },
    {
      "cell_type": "markdown",
      "source": [
        "**Desafío 4.2: Calculadora de interés compuesto**\n",
        "\n",
        "Crea un programa que calcule el monto final de una inversión con interés compuesto:\n",
        "1. Declara variables para el capital inicial, la tasa de interés anual y el número de años\n",
        "2. Calcula el monto final usando la fórmula: Monto = Capital × (1 + Tasa)^Años\n",
        "3. Imprime el capital inicial y el monto final con un mensaje explicativo"
      ],
      "metadata": {
        "id": "v56RSBYuPcx5"
      }
    },
    {
      "cell_type": "code",
      "source": [
        "# 1. Declarar variables para el capital inicial, la tasa de interés anual y el número de años\n",
        "capital_inicial = 1000  # Capital inicial en moneda\n",
        "tasa_interes_anual = 0.05  # Tasa de interés anual (5%)\n",
        "anios = 5  # Número de años\n",
        "\n",
        "# 2. Calcular el monto final usando la fórmula: Monto = Capital × (1 + Tasa)^Años\n",
        "monto_final = capital_inicial * (1 + tasa_interes_anual) ** anios\n",
        "\n",
        "# 3. Imprimir el capital inicial y el monto final con un mensaje explicativo\n",
        "print(f\"Capital inicial: {capital_inicial} unidades monetarias\")\n",
        "print(f\"El monto final después de {anios} años es: {monto_final:.2f} unidades monetarias\")\n"
      ],
      "metadata": {
        "id": "yPjUR5GpPggl",
        "outputId": "d7bb184d-fbc5-4cf0-d3c5-49d051425292",
        "colab": {
          "base_uri": "https://localhost:8080/"
        }
      },
      "execution_count": 22,
      "outputs": [
        {
          "output_type": "stream",
          "name": "stdout",
          "text": [
            "Capital inicial: 1000 unidades monetarias\n",
            "El monto final después de 5 años es: 1276.28 unidades monetarias\n"
          ]
        }
      ]
    },
    {
      "cell_type": "markdown",
      "source": [
        "---\n",
        "## **Nivel 5: Desafíos Avanzados**\n",
        "\n",
        "**Desafío 5.1: Fórmula cuadrática**\n",
        "\n",
        "Escribe un programa que implemente la fórmula cuadrática para encontrar las raíces de una ecuación de segundo grado (ax² + bx + c = 0):\n",
        "1. Declara variables para los coeficientes a, b y c\n",
        "2. Calcula el discriminante (b² - 4ac)\n",
        "3. Calcula las dos raíces: x = (-b ± √(discriminante)) / (2a)\n",
        "4. Imprime las raíces con un mensaje explicativo.\n"
      ],
      "metadata": {
        "id": "mJJDpN7_Pgyr"
      }
    },
    {
      "cell_type": "code",
      "source": [
        "import math\n",
        "\n",
        "# 1. Declarar variables para los coeficientes a, b y c\n",
        "a = 1  # Coeficiente a\n",
        "b = -3  # Coeficiente b\n",
        "c = 2  # Coeficiente c\n",
        "\n",
        "# 2. Calcular el discriminante (b² - 4ac)\n",
        "discriminante = b**2 - 4*a*c\n",
        "\n",
        "# 3. Calcular las dos raíces usando la fórmula cuadrática\n",
        "if discriminante > 0:\n",
        "    # Dos raíces reales y distintas\n",
        "    raiz1 = (-b + math.sqrt(discriminante)) / (2 * a)\n",
        "    raiz2 = (-b - math.sqrt(discriminante)) / (2 * a)\n",
        "    print(f\"Las raíces son: {raiz1} y {raiz2}\")\n",
        "elif discriminante == 0:\n",
        "    # Una raíz real doble\n",
        "    raiz = -b / (2 * a)\n",
        "    print(f\"La raíz doble es: {raiz}\")\n",
        "else:\n",
        "    # No hay raíces reales\n",
        "    print(\"La ecuación no tiene raíces reales.\")\n"
      ],
      "metadata": {
        "id": "Kuoxq0bePlzM",
        "outputId": "9cb89742-b56b-4702-879e-46bad5f137c8",
        "colab": {
          "base_uri": "https://localhost:8080/"
        }
      },
      "execution_count": 23,
      "outputs": [
        {
          "output_type": "stream",
          "name": "stdout",
          "text": [
            "Las raíces son: 2.0 y 1.0\n"
          ]
        }
      ]
    },
    {
      "cell_type": "markdown",
      "source": [
        "**Desafío 5.2: Calculadora de tiempo de viaje**\n",
        "\n",
        "Crea un programa que calcule el tiempo que tardarías en llegar a Marte:\n",
        "1. La distancia mínima entre la Tierra y Marte es aproximadamente 54.6 millones de kilómetros\n",
        "2. Asume que un cohete viaja a 28,000 km/h\n",
        "3. Calcula cuántos días tomaría llegar a Marte a esa velocidad\n",
        "4. Imprime el resultado en días, horas, minutos y segundos\n",
        "\n"
      ],
      "metadata": {
        "id": "zA4jlRp4PmIS"
      }
    },
    {
      "cell_type": "code",
      "source": [
        "# Distancia mínima de la Tierra a Marte en kilómetros\n",
        "distancia = 54.6 * 10**6  # 54.6 millones de km\n",
        "\n",
        "# Velocidad del cohete en km/h\n",
        "velocidad = 28000  # km/h\n",
        "\n",
        "# Calcular el tiempo en horas\n",
        "tiempo_horas = distancia / velocidad\n",
        "\n",
        "# Convertir el tiempo a días, horas, minutos y segundos\n",
        "dias = tiempo_horas // 24  # días completos\n",
        "horas = tiempo_horas % 24  # horas restantes\n",
        "minutos = (horas % 1) * 60  # minutos\n",
        "segundos = (minutos % 1) * 60  # segundos\n",
        "\n",
        "# Imprimir el resultado\n",
        "print(f\"El tiempo para llegar a Marte es aproximadamente:\")\n",
        "print(f\"{int(dias)} días, {int(horas)} horas, {int(minutos)} minutos y {int(segundos)} segundos.\")\n"
      ],
      "metadata": {
        "id": "tijxBHOCQAqZ",
        "outputId": "ebb31ed6-17b0-4d9d-a3bf-09033adbc636",
        "colab": {
          "base_uri": "https://localhost:8080/"
        }
      },
      "execution_count": 24,
      "outputs": [
        {
          "output_type": "stream",
          "name": "stdout",
          "text": [
            "El tiempo para llegar a Marte es aproximadamente:\n",
            "81 días, 6 horas, 0 minutos y 0 segundos.\n"
          ]
        }
      ]
    },
    {
      "cell_type": "markdown",
      "source": [
        "**Desafío 5.3: Calculadora de calorías**\n",
        "\n",
        "*(no cuenta como desafío pues es el ejemplo de classroom)*\n",
        "\n",
        "Diseña un programa que calcule cuántas calorías quema una persona al realizar ejercicio:\n",
        "\n",
        "La fórmula simplificada es:\n",
        "\n",
        "1.   Calorías = MET × Peso (kg) × Tiempo (horas)\n",
        "\n",
        "*   MET (Metabolic Equivalent of Task)\n",
        "*   varía según la actividad:\n",
        "*   Caminar: 3.5\n",
        "*   Correr: 8.0\n",
        "*   Nadar: 6.0\n",
        "\n",
        "2.  El programa debe permitir definir variables para el tipo de actividad, el peso de la persona y el tiempo de ejercicio\n",
        "3.  Calcular e imprimir las calorías quemadas con un mensaje explicativo."
      ],
      "metadata": {
        "id": "yxgPlVCDQBJg"
      }
    }
  ]
}