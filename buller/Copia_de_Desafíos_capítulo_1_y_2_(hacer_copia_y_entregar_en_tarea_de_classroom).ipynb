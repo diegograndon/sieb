{
  "nbformat": 4,
  "nbformat_minor": 0,
  "metadata": {
    "colab": {
      "provenance": [],
      "include_colab_link": true
    },
    "kernelspec": {
      "name": "python3",
      "display_name": "Python 3"
    },
    "language_info": {
      "name": "python"
    }
  },
  "cells": [
    {
      "cell_type": "markdown",
      "metadata": {
        "id": "view-in-github",
        "colab_type": "text"
      },
      "source": [
        "<a href=\"https://colab.research.google.com/github/diegograndon/sieb/blob/main/Copia_de_Desaf%C3%ADos_cap%C3%ADtulo_1_y_2_(hacer_copia_y_entregar_en_tarea_de_classroom).ipynb\" target=\"_parent\"><img src=\"https://colab.research.google.com/assets/colab-badge.svg\" alt=\"Open In Colab\"/></a>"
      ]
    },
    {
      "cell_type": "markdown",
      "source": [
        "# Desafíos de Pensamiento Computacional y Programación en Python\n",
        "\n",
        "*Basados en los capítulos 1 y 2 del libro \"Think Python\" de Allen Downey*\n",
        "\n",
        "## Instrucciones para el estudiante\n",
        "\n",
        "Este notebook contiene una serie de desafíos de programación en Python organizados por nivel de dificultad. Cada desafío te permitirá poner en práctica los conceptos que hemos aprendido hasta ahora en el curso. Recuerda:\n",
        "\n",
        "- Puedes usar solo los conceptos vistos en el capítulo 1 completo y los elementos básicos del capítulo 2.\n",
        "- Es importante que intentes resolver los problemas por ti mismo antes de pedir ayuda.\n",
        "- Documenta tu código utilizando comentarios para explicar tu razonamiento.\n",
        "- Prueba tus soluciones con diferentes entradas para verificar que funcionan correctamente.\n",
        "\n",
        "---\n",
        "\n",
        "## **Nivel 1: Primeros Pasos**\n",
        "\n",
        "**Desafío 1.1: Explorando el intérprete**\n",
        "\n",
        "Utiliza el intérprete de Python como una calculadora para resolver las siguientes operaciones:\n",
        "- Calcula el área de un círculo con radio 5 (recuerda que Área = π × r²)\n",
        "\n"
      ],
      "metadata": {
        "id": "tRCRCmArhlzD"
      }
    },
    {
      "cell_type": "code",
      "source": [],
      "metadata": {
        "id": "PkkwLe7OhmmE"
      },
      "execution_count": null,
      "outputs": []
    },
    {
      "cell_type": "markdown",
      "source": [
        "- Calcula cuántos segundos hay en 5 horas, 30 minutos y 15 segundos\n"
      ],
      "metadata": {
        "id": "rh-wUCoGh6pS"
      }
    },
    {
      "cell_type": "code",
      "source": [],
      "metadata": {
        "id": "s_p71yOyh-Vg"
      },
      "execution_count": null,
      "outputs": []
    },
    {
      "cell_type": "markdown",
      "source": [
        "- Calcula tu edad exacta en días (aproximadamente)"
      ],
      "metadata": {
        "id": "1mDzvOHah-2C"
      }
    },
    {
      "cell_type": "code",
      "source": [],
      "metadata": {
        "id": "Ow_lZuBzh_jW"
      },
      "execution_count": null,
      "outputs": []
    },
    {
      "cell_type": "markdown",
      "source": [
        "---\n",
        "**Desafío 1.2: Errores y depuración**\n",
        "\n",
        "Identifica y corrige los errores en los siguientes códigos:\n",
        "\n",
        "1. print(\"Hola mundo\"\n",
        "\n",
        "2. print(5 + * 2)\n",
        "\n",
        "3. print(10 / 0)"
      ],
      "metadata": {
        "id": "kjeKdAqdMOd-"
      }
    },
    {
      "cell_type": "markdown",
      "source": [
        "Respuesta desafío 1.2\n",
        "\n",
        "\n",
        "*escribir acá las explicaciones de cada error*\n",
        "\n",
        "\n"
      ],
      "metadata": {
        "id": "QaH0_ZPBMdLE"
      }
    },
    {
      "cell_type": "markdown",
      "source": [
        "---\n",
        "**Desafío 1.3: Secuencia de operaciones**\n",
        "\n",
        "Escribe una expresión que convierta una temperatura de 98.6 grados Fahrenheit a Celsius. La fórmula es: C = (F - 32) × 5/9.\n"
      ],
      "metadata": {
        "id": "mUeB90JBNQS7"
      }
    },
    {
      "cell_type": "code",
      "source": [],
      "metadata": {
        "id": "2sc61zARNT0l"
      },
      "execution_count": null,
      "outputs": []
    },
    {
      "cell_type": "markdown",
      "source": [
        "---\n",
        "## **Nivel 2: Variables y Expresiones**\n",
        "\n",
        "**Desafío 2.1: Manipulación de variables**\n",
        "\n",
        "Escribe un programa que:\n",
        "\n",
        "1.   Cree una variable llamada nombre con tu nombre\n",
        "2.  Cree una variable llamada edad con tu edad\n",
        "3.  Calcule e imprima cuántos años tendrás en 2030\n",
        "4.  Imprima un mensaje que diga \"Hola [nombre], en 2030 tendrás [edad en 2030] años\"\n"
      ],
      "metadata": {
        "id": "aPj-4BfPNYPQ"
      }
    },
    {
      "cell_type": "code",
      "source": [],
      "metadata": {
        "id": "xxRuGIYLN7EJ"
      },
      "execution_count": null,
      "outputs": []
    },
    {
      "cell_type": "markdown",
      "source": [
        "**Desafío 2.2: Calculadora de tiempo**\n",
        "\n",
        "Escribe un programa que convierta un número de segundos ingresado a su equivalente en horas, minutos y segundos. Por ejemplo, 3661 segundos deberían mostrar: 1 hora, 1 minuto y 1 segundo.\n"
      ],
      "metadata": {
        "id": "Pkm4a5vpN77E"
      }
    },
    {
      "cell_type": "code",
      "source": [],
      "metadata": {
        "id": "k6w-aiElOAAP"
      },
      "execution_count": null,
      "outputs": []
    },
    {
      "cell_type": "markdown",
      "source": [
        "**Desafío 2.3: Intercambio de valores**\n",
        "\n",
        "Escribe un programa que tenga dos variables a y b con valores iniciales 5 y 10 respectivamente. Tu programa debe intercambiar los valores de estas variables e imprimir los resultados antes y después del intercambio."
      ],
      "metadata": {
        "id": "MdkJZL2QOAT2"
      }
    },
    {
      "cell_type": "code",
      "source": [],
      "metadata": {
        "id": "A69_HiYzOIxy"
      },
      "execution_count": null,
      "outputs": []
    },
    {
      "cell_type": "markdown",
      "source": [
        "---\n",
        "## **Nivel 3: Operaciones y Tipos de Datos**\n",
        "\n",
        "**Desafío 3.1: Operadores aritméticos**\n",
        "\n",
        "Crea un programa que calcule:\n",
        "1. El área y perímetro de un rectángulo con dimensiones 4 x 7\n",
        "2. El volumen de una esfera de radio 3 (V = 4/3 × π × r³)\n",
        "3. La distancia entre dos puntos (3,4) y (6,8) usando la fórmula: d = sqrt[(x₂ - x₁)² + (y₂ - y₁)²]\n"
      ],
      "metadata": {
        "id": "pDBGLRNmOWxY"
      }
    },
    {
      "cell_type": "code",
      "source": [],
      "metadata": {
        "id": "sKDoom0JOc_z"
      },
      "execution_count": null,
      "outputs": []
    },
    {
      "cell_type": "markdown",
      "source": [
        "**Desafío 3.2: Divisiones y módulo**\n",
        "\n",
        "Escribe un programa que:\n",
        "*   Calcule la división entera de 17 entre 5\n",
        "*   Calcule el resto de esa división\n",
        "*   Verifique que usando ambos resultados puedes reconstruir el número 17\n",
        "\n"
      ],
      "metadata": {
        "id": "pFsoV4D3Odg5"
      }
    },
    {
      "cell_type": "code",
      "source": [],
      "metadata": {
        "id": "-zRohDGbOeqU"
      },
      "execution_count": null,
      "outputs": []
    },
    {
      "cell_type": "markdown",
      "source": [
        "**Desafío 3.3: Conversiones de tipos**\n",
        "\n",
        "Crea un programa que:\n",
        "1. Convierta el número 3.14159 a entero de dos maneras diferentes (truncando y redondeando).\n",
        "2. Convierta el texto \"42\" a un número entero y luego realice una operación matemática con él (imprimir algún ejemplo).\n",
        "3. Convierta un número entero (elige alguno) a string y logra concatenarlo a un texto.\n",
        "\n",
        "En los tres casos se debe imprimir el resultado con un mensaje explicativo.\n"
      ],
      "metadata": {
        "id": "ZHm2Y_iBOe9f"
      }
    },
    {
      "cell_type": "code",
      "source": [],
      "metadata": {
        "id": "DAjHRWyjOfmG"
      },
      "execution_count": null,
      "outputs": []
    },
    {
      "cell_type": "markdown",
      "source": [
        "---\n",
        "## **Nivel 4: Retos de Integración**\n",
        "\n",
        "**Desafío 4.1: Calculadora de IMC**\n",
        "\n",
        "Crea un programa que calcule el Índice de Masa Corporal (IMC).\n",
        "El programa debe:\n",
        "1. Declarar variables para la altura (en metros) y el peso (en kilogramos)\n",
        "2. Calcular el IMC usando la fórmula: IMC = peso / altura²\n",
        "3. Imprimir el resultado con un mensaje explicativo"
      ],
      "metadata": {
        "id": "waVK_e9LPMpH"
      }
    },
    {
      "cell_type": "code",
      "source": [],
      "metadata": {
        "id": "IHRG34HAPcU-"
      },
      "execution_count": null,
      "outputs": []
    },
    {
      "cell_type": "markdown",
      "source": [
        "**Desafío 4.2: Calculadora de interés compuesto**\n",
        "\n",
        "Crea un programa que calcule el monto final de una inversión con interés compuesto:\n",
        "1. Declara variables para el capital inicial, la tasa de interés anual y el número de años\n",
        "2. Calcula el monto final usando la fórmula: Monto = Capital × (1 + Tasa)^Años\n",
        "3. Imprime el capital inicial y el monto final con un mensaje explicativo"
      ],
      "metadata": {
        "id": "v56RSBYuPcx5"
      }
    },
    {
      "cell_type": "code",
      "source": [],
      "metadata": {
        "id": "yPjUR5GpPggl"
      },
      "execution_count": null,
      "outputs": []
    },
    {
      "cell_type": "markdown",
      "source": [
        "---\n",
        "## **Nivel 5: Desafíos Avanzados**\n",
        "\n",
        "**Desafío 5.1: Fórmula cuadrática**\n",
        "\n",
        "Escribe un programa que implemente la fórmula cuadrática para encontrar las raíces de una ecuación de segundo grado (ax² + bx + c = 0):\n",
        "1. Declara variables para los coeficientes a, b y c\n",
        "2. Calcula el discriminante (b² - 4ac)\n",
        "3. Calcula las dos raíces: x = (-b ± √(discriminante)) / (2a)\n",
        "4. Imprime las raíces con un mensaje explicativo.\n"
      ],
      "metadata": {
        "id": "mJJDpN7_Pgyr"
      }
    },
    {
      "cell_type": "code",
      "source": [],
      "metadata": {
        "id": "Kuoxq0bePlzM"
      },
      "execution_count": null,
      "outputs": []
    },
    {
      "cell_type": "markdown",
      "source": [
        "**Desafío 5.2: Calculadora de tiempo de viaje**\n",
        "\n",
        "Crea un programa que calcule el tiempo que tardarías en llegar a Marte:\n",
        "1. La distancia mínima entre la Tierra y Marte es aproximadamente 54.6 millones de kilómetros\n",
        "2. Asume que un cohete viaja a 28,000 km/h\n",
        "3. Calcula cuántos días tomaría llegar a Marte a esa velocidad\n",
        "4. Imprime el resultado en días, horas, minutos y segundos\n",
        "\n"
      ],
      "metadata": {
        "id": "zA4jlRp4PmIS"
      }
    },
    {
      "cell_type": "code",
      "source": [],
      "metadata": {
        "id": "tijxBHOCQAqZ"
      },
      "execution_count": null,
      "outputs": []
    },
    {
      "cell_type": "markdown",
      "source": [
        "**Desafío 5.3: Calculadora de calorías**\n",
        "\n",
        "*(no cuenta como desafío pues es el ejemplo de classroom)*\n",
        "\n",
        "Diseña un programa que calcule cuántas calorías quema una persona al realizar ejercicio:\n",
        "\n",
        "La fórmula simplificada es:\n",
        "\n",
        "1.   Calorías = MET × Peso (kg) × Tiempo (horas)\n",
        "\n",
        "*   MET (Metabolic Equivalent of Task)\n",
        "*   varía según la actividad:\n",
        "*   Caminar: 3.5\n",
        "*   Correr: 8.0\n",
        "*   Nadar: 6.0\n",
        "\n",
        "2.  El programa debe permitir definir variables para el tipo de actividad, el peso de la persona y el tiempo de ejercicio\n",
        "3.  Calcular e imprimir las calorías quemadas con un mensaje explicativo."
      ],
      "metadata": {
        "id": "yxgPlVCDQBJg"
      }
    }
  ]
}
