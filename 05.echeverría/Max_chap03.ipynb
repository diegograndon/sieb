{
  "cells": [
    {
      "cell_type": "markdown",
      "metadata": {
        "id": "view-in-github",
        "colab_type": "text"
      },
      "source": [
        "<a href=\"https://colab.research.google.com/github/diegograndon/sieb/blob/main/05.echeverr%C3%ADa/Max_chap03.ipynb\" target=\"_parent\"><img src=\"https://colab.research.google.com/assets/colab-badge.svg\" alt=\"Open In Colab\"/></a>"
      ]
    },
    {
      "cell_type": "markdown",
      "id": "1331faa1",
      "metadata": {
        "id": "1331faa1"
      },
      "source": [
        "You can order print and ebook versions of *Think Python 3e* from\n",
        "[Bookshop.org](https://bookshop.org/a/98697/9781098155438) and\n",
        "[Amazon](https://www.amazon.com/_/dp/1098155432?smid=ATVPDKIKX0DER&_encoding=UTF8&tag=oreilly20-20&_encoding=UTF8&tag=greenteapre01-20&linkCode=ur2&linkId=e2a529f94920295d27ec8a06e757dc7c&camp=1789&creative=9325)."
      ]
    },
    {
      "cell_type": "code",
      "execution_count": null,
      "id": "103cbe3c",
      "metadata": {
        "tags": [],
        "id": "103cbe3c",
        "colab": {
          "base_uri": "https://localhost:8080/"
        },
        "outputId": "4fb27b3f-1a8b-4b52-e18d-3250ad741716"
      },
      "outputs": [
        {
          "output_type": "stream",
          "name": "stdout",
          "text": [
            "Downloaded thinkpython.py\n",
            "Downloaded diagram.py\n"
          ]
        }
      ],
      "source": [
        "from os.path import basename, exists\n",
        "\n",
        "def download(url):\n",
        "    filename = basename(url)\n",
        "    if not exists(filename):\n",
        "        from urllib.request import urlretrieve\n",
        "\n",
        "        local, _ = urlretrieve(url, filename)\n",
        "        print(\"Downloaded \" + str(local))\n",
        "    return filename\n",
        "\n",
        "download('https://github.com/AllenDowney/ThinkPython/raw/v3/thinkpython.py');\n",
        "download('https://github.com/AllenDowney/ThinkPython/raw/v3/diagram.py');\n",
        "\n",
        "import thinkpython"
      ]
    },
    {
      "cell_type": "markdown",
      "id": "6bd858a8",
      "metadata": {
        "id": "6bd858a8"
      },
      "source": [
        "# Functions\n",
        "\n",
        "In the previous chapter we used several functions provided by Python, like `int` and `float`, and a few provided by the `math` module, like `sqrt` and `pow`.\n",
        "In this chapter, you will learn how to create your own functions and run them.\n",
        "And we'll see how one function can call another.\n",
        "As examples, we'll display lyrics from Monty Python songs.\n",
        "These silly examples demonstrate an important feature -- the ability to write your own functions is the foundation of programming.\n",
        "\n",
        "This chapter also introduces a new statement, the `for` loop, which is used to repeat a computation."
      ]
    },
    {
      "cell_type": "markdown",
      "id": "b4ea99c5",
      "metadata": {
        "id": "b4ea99c5"
      },
      "source": [
        "## Defining new functions\n",
        "\n",
        "A **function definition** specifies the name of a new function and the sequence of statements that run when the function is called. Here's an example:"
      ]
    },
    {
      "cell_type": "code",
      "execution_count": null,
      "id": "d28f5c1a",
      "metadata": {
        "id": "d28f5c1a"
      },
      "outputs": [],
      "source": [
        "def print_phrase():\n",
        "  print(\"If it already works,\")\n",
        "  print(\"don't fix it.\")"
      ]
    },
    {
      "cell_type": "markdown",
      "id": "0174fc41",
      "metadata": {
        "id": "0174fc41"
      },
      "source": [
        "`def` is a keyword that indicates that this is a function definition.\n",
        "The name of the function is `print_lyrics`.\n",
        "Anything that's a legal variable name is also a legal function name.\n",
        "\n",
        "The empty parentheses after the name indicate that this function doesn't take any arguments.\n",
        "\n",
        "The first line of the function definition is called the **header** -- the rest is called the **body**.\n",
        "The header has to end with a colon and the body has to be indented. By convention, indentation is always four spaces.\n",
        "The body of this function is two print statements; in general, the body of a function can contain any number of statements of any kind.\n",
        "\n",
        "Defining a function creates a **function object**, which we can display like this."
      ]
    },
    {
      "cell_type": "code",
      "execution_count": null,
      "id": "2850a402",
      "metadata": {
        "id": "2850a402",
        "colab": {
          "base_uri": "https://localhost:8080/",
          "height": 104
        },
        "outputId": "e8fa4c0b-58fe-46ec-c5d1-e1402c12a7f0"
      },
      "outputs": [
        {
          "output_type": "execute_result",
          "data": {
            "text/plain": [
              "<function __main__.print_phrase()>"
            ],
            "text/html": [
              "<div style=\"max-width:800px; border: 1px solid var(--colab-border-color);\"><style>\n",
              "      pre.function-repr-contents {\n",
              "        overflow-x: auto;\n",
              "        padding: 8px 12px;\n",
              "        max-height: 500px;\n",
              "      }\n",
              "\n",
              "      pre.function-repr-contents.function-repr-contents-collapsed {\n",
              "        cursor: pointer;\n",
              "        max-height: 100px;\n",
              "      }\n",
              "    </style>\n",
              "    <pre style=\"white-space: initial; background:\n",
              "         var(--colab-secondary-surface-color); padding: 8px 12px;\n",
              "         border-bottom: 1px solid var(--colab-border-color);\"><b>print_phrase</b><br/>def print_phrase()</pre><pre class=\"function-repr-contents function-repr-contents-collapsed\" style=\"\"><a class=\"filepath\" style=\"display:none\" href=\"#\">/content/&lt;ipython-input-9-d027135e161f&gt;</a>&lt;no docstring&gt;</pre></div>"
            ]
          },
          "metadata": {},
          "execution_count": 10
        }
      ],
      "source": [
        "print_phrase"
      ]
    },
    {
      "cell_type": "markdown",
      "id": "12bd0879",
      "metadata": {
        "id": "12bd0879"
      },
      "source": [
        "The output indicates that `print_lyrics` is a function that takes no arguments.\n",
        "`__main__` is the name of the module that contains `print_lyrics`.\n",
        "\n",
        "Now that we've defined a function, we can call it the same way we call built-in functions."
      ]
    },
    {
      "cell_type": "code",
      "execution_count": null,
      "id": "9a048657",
      "metadata": {
        "id": "9a048657",
        "colab": {
          "base_uri": "https://localhost:8080/"
        },
        "outputId": "876a4e08-4a4d-49c3-ddba-12693091ecf8"
      },
      "outputs": [
        {
          "output_type": "stream",
          "name": "stdout",
          "text": [
            "If it already works,\n",
            "don't fix it.\n"
          ]
        }
      ],
      "source": [
        "print_phrase()"
      ]
    },
    {
      "cell_type": "markdown",
      "id": "8f0fc45d",
      "metadata": {
        "id": "8f0fc45d"
      },
      "source": [
        "When the function runs, it executes the statements in the body, which display the first two lines of \"The Lumberjack Song\"."
      ]
    },
    {
      "cell_type": "markdown",
      "id": "6d35193e",
      "metadata": {
        "id": "6d35193e"
      },
      "source": [
        "## Parameters\n",
        "\n",
        "Some of the functions we have seen require arguments; for example, when you call `abs` you pass a number as an argument.\n",
        "Some functions take more than one argument; for example, `math.pow` takes two, the base and the exponent.\n",
        "\n",
        "Here is a definition for a function that takes an argument."
      ]
    },
    {
      "cell_type": "code",
      "execution_count": null,
      "id": "e5d00488",
      "metadata": {
        "id": "e5d00488"
      },
      "outputs": [],
      "source": [
        "def double_print(string):\n",
        "    print(f\"{string}\")\n",
        "    print(f\"{string}\")"
      ]
    },
    {
      "cell_type": "markdown",
      "id": "1716e3dc",
      "metadata": {
        "id": "1716e3dc"
      },
      "source": [
        "The variable name in parentheses is a **parameter**.\n",
        "When the function is called, the value of the argument is assigned to the parameter.\n",
        "For example, we can call `print_twice` like this."
      ]
    },
    {
      "cell_type": "code",
      "execution_count": null,
      "id": "a3ad5f46",
      "metadata": {
        "id": "a3ad5f46",
        "colab": {
          "base_uri": "https://localhost:8080/"
        },
        "outputId": "91128e1b-e26c-418d-b0b2-5b1b1981ca34"
      },
      "outputs": [
        {
          "output_type": "stream",
          "name": "stdout",
          "text": [
            "Alex\n",
            "Alex\n"
          ]
        }
      ],
      "source": [
        "double_print(\"Alex\")"
      ]
    },
    {
      "cell_type": "markdown",
      "id": "f02be6d2",
      "metadata": {
        "id": "f02be6d2"
      },
      "source": [
        "Running this function has the same effect as assigning the argument to the parameter and then executing the body of the function, like this."
      ]
    },
    {
      "cell_type": "code",
      "execution_count": null,
      "id": "042dfec1",
      "metadata": {
        "id": "042dfec1",
        "colab": {
          "base_uri": "https://localhost:8080/"
        },
        "outputId": "21e07db6-8ee9-4b1b-e55d-3b31049c9e19"
      },
      "outputs": [
        {
          "output_type": "stream",
          "name": "stdout",
          "text": [
            "Alex\n",
            "Alex\n"
          ]
        }
      ],
      "source": [
        "string = \"Alex\"\n",
        "print(f\"{string}\")\n",
        "print(f\"{string}\")"
      ]
    },
    {
      "cell_type": "markdown",
      "id": "ea8b8b6e",
      "metadata": {
        "id": "ea8b8b6e"
      },
      "source": [
        "You can also use a variable as an argument."
      ]
    },
    {
      "cell_type": "code",
      "execution_count": null,
      "id": "8f078ad0",
      "metadata": {
        "id": "8f078ad0",
        "colab": {
          "base_uri": "https://localhost:8080/"
        },
        "outputId": "5f54902e-2faf-4656-b71e-669d5c417a2b"
      },
      "outputs": [
        {
          "output_type": "stream",
          "name": "stdout",
          "text": [
            "Alex\n",
            "Alex\n"
          ]
        }
      ],
      "source": [
        "nombre = \"Alex\"\n",
        "double_print(nombre)"
      ]
    },
    {
      "cell_type": "markdown",
      "id": "5c1884ad",
      "metadata": {
        "id": "5c1884ad"
      },
      "source": [
        "In this example, the value of `line` gets assigned to the parameter `string`."
      ]
    },
    {
      "cell_type": "markdown",
      "id": "a3e5a790",
      "metadata": {
        "id": "a3e5a790"
      },
      "source": [
        "## Calling functions\n",
        "\n",
        "Once you have defined a function, you can use it inside another function.\n",
        "To demonstrate, we'll write functions that print the lyrics of \"The Spam Song\" (<https://www.songfacts.com/lyrics/monty-python/the-spam-song>).\n",
        "\n",
        "> Spam, Spam, Spam, Spam,  \n",
        "> Spam, Spam, Spam, Spam,  \n",
        "> Spam, Spam,  \n",
        "> (Lovely Spam, Wonderful Spam!)  \n",
        "> Spam, Spam,\n",
        "\n",
        "We'll start with the following function, which takes two parameters.\n"
      ]
    },
    {
      "cell_type": "code",
      "execution_count": null,
      "id": "e86bb32c",
      "metadata": {
        "id": "e86bb32c"
      },
      "outputs": [],
      "source": [
        "def repetir(palabra, n):\n",
        "    print(palabra * n)"
      ]
    },
    {
      "cell_type": "markdown",
      "id": "bdd4daa4",
      "metadata": {
        "id": "bdd4daa4"
      },
      "source": [
        "We can use this function to print the first line of the song, like this."
      ]
    },
    {
      "cell_type": "code",
      "execution_count": null,
      "id": "ec117999",
      "metadata": {
        "id": "ec117999",
        "colab": {
          "base_uri": "https://localhost:8080/"
        },
        "outputId": "c7e8cda9-3df7-49f0-afbe-bec407bcf712"
      },
      "outputs": [
        {
          "output_type": "stream",
          "name": "stdout",
          "text": [
            "Arwrarwrirwrarwro, Arwrarwrirwrarwro, \n"
          ]
        }
      ],
      "source": [
        "arw = \"Arwrarwrirwrarwro, \"\n",
        "wrar = \"Wrarwrirwrorwrorwre, \"\n",
        "repetir(arw, 2)"
      ]
    },
    {
      "cell_type": "markdown",
      "id": "c6f81e09",
      "metadata": {
        "id": "c6f81e09"
      },
      "source": [
        "To display the first two lines, we can define a new function that uses `repeat`."
      ]
    },
    {
      "cell_type": "code",
      "execution_count": null,
      "id": "3731ffd8",
      "metadata": {
        "id": "3731ffd8"
      },
      "outputs": [],
      "source": [
        "def primeras_2_lineas():\n",
        "    repetir(arw, 2)\n",
        "    print(wrar, arw)"
      ]
    },
    {
      "cell_type": "markdown",
      "id": "8058ffe4",
      "metadata": {
        "id": "8058ffe4"
      },
      "source": [
        "And then call it like this."
      ]
    },
    {
      "cell_type": "code",
      "execution_count": null,
      "id": "6792e63b",
      "metadata": {
        "id": "6792e63b",
        "colab": {
          "base_uri": "https://localhost:8080/"
        },
        "outputId": "fb79cb08-b7ea-4000-c60b-d5309a7325a7"
      },
      "outputs": [
        {
          "output_type": "stream",
          "name": "stdout",
          "text": [
            "Arwrarwrirwrarwro, Arwrarwrirwrarwro, \n",
            "Wrarwrirwrorwrorwre,  Arwrarwrirwrarwro, \n"
          ]
        }
      ],
      "source": [
        "primeras_2_lineas()"
      ]
    },
    {
      "cell_type": "markdown",
      "id": "07ca432a",
      "metadata": {
        "id": "07ca432a"
      },
      "source": [
        "To display the last three lines, we can define another function, which also uses `repeat`."
      ]
    },
    {
      "cell_type": "code",
      "execution_count": null,
      "id": "2dcb020a",
      "metadata": {
        "id": "2dcb020a"
      },
      "outputs": [],
      "source": [
        "def ultimas_3_lineas():\n",
        "    repetir(arw, 2)\n",
        "    print(\"Wrerwrirwrarwri, \", arw)\n",
        "    repetir(arw, 2)"
      ]
    },
    {
      "cell_type": "code",
      "execution_count": null,
      "id": "9ff8c60e",
      "metadata": {
        "id": "9ff8c60e",
        "colab": {
          "base_uri": "https://localhost:8080/"
        },
        "outputId": "3519c885-381c-42ed-d783-7a842861b902"
      },
      "outputs": [
        {
          "output_type": "stream",
          "name": "stdout",
          "text": [
            "Arwrarwrirwrarwro, Arwrarwrirwrarwro, \n",
            "Wrerwrirwrarwri Arwrarwrirwrarwro, \n",
            "Arwrarwrirwrarwro, Arwrarwrirwrarwro, \n"
          ]
        }
      ],
      "source": [
        "ultimas_3_lineas()"
      ]
    },
    {
      "cell_type": "markdown",
      "id": "d6456a19",
      "metadata": {
        "id": "d6456a19"
      },
      "source": [
        "Finally, we can bring it all together with one function that prints the whole verse."
      ]
    },
    {
      "cell_type": "code",
      "execution_count": null,
      "id": "78bf3a7b",
      "metadata": {
        "id": "78bf3a7b"
      },
      "outputs": [],
      "source": [
        "def print_verso():\n",
        "    primeras_2_lineas()\n",
        "    ultimas_3_lineas()"
      ]
    },
    {
      "cell_type": "code",
      "execution_count": null,
      "id": "ba5da431",
      "metadata": {
        "id": "ba5da431",
        "colab": {
          "base_uri": "https://localhost:8080/"
        },
        "outputId": "e3bd12f6-bdaf-459a-ec1f-7ed3f843b046"
      },
      "outputs": [
        {
          "output_type": "stream",
          "name": "stdout",
          "text": [
            "Arwrarwrirwrarwro, Arwrarwrirwrarwro, \n",
            "Wrarwrirwrorwrorwre,  Arwrarwrirwrarwro, \n",
            "Arwrarwrirwrarwro, Arwrarwrirwrarwro, \n",
            "Wrerwrirwrarwri Arwrarwrirwrarwro, \n",
            "Arwrarwrirwrarwro, Arwrarwrirwrarwro, \n"
          ]
        }
      ],
      "source": [
        "print_verso()"
      ]
    },
    {
      "cell_type": "markdown",
      "id": "d088fe68",
      "metadata": {
        "id": "d088fe68"
      },
      "source": [
        "When we run `print_verse`, it calls `first_two_lines`, which calls `repeat`, which calls `print`.\n",
        "That's a lot of functions.\n",
        "\n",
        "Of course, we could have done the same thing with fewer functions, but the point of this example is to show how functions can work together."
      ]
    },
    {
      "cell_type": "markdown",
      "id": "c3b16e3f",
      "metadata": {
        "id": "c3b16e3f"
      },
      "source": [
        "## Repetition\n",
        "\n",
        "If we want to display more than one verse, we can use a `for` statement.\n",
        "Here's a simple example."
      ]
    },
    {
      "cell_type": "code",
      "execution_count": null,
      "id": "29b7eff3",
      "metadata": {
        "id": "29b7eff3",
        "colab": {
          "base_uri": "https://localhost:8080/"
        },
        "outputId": "a6a4735f-8dda-4c29-a3ba-3e5b713511a5"
      },
      "outputs": [
        {
          "output_type": "stream",
          "name": "stdout",
          "text": [
            "0\n",
            "1\n",
            "2\n",
            "3\n"
          ]
        }
      ],
      "source": [
        "for j in range(4):\n",
        "    print(j)"
      ]
    },
    {
      "cell_type": "markdown",
      "id": "bf320549",
      "metadata": {
        "id": "bf320549"
      },
      "source": [
        "The first line is a header that ends with a colon.\n",
        "The second line is the body, which has to be indented.\n",
        "\n",
        "The header starts with the keyword `for`, a new variable named `i`, and another keyword, `in`.\n",
        "It uses the `range` function to create a sequence of two values, which are `0` and `1`.\n",
        "In Python, when we start counting, we usually start from `0`.\n",
        "\n",
        "When the `for` statement runs, it assigns the first value from `range` to `i` and then runs the `print` function in the body, which displays `0`.\n",
        "\n",
        "When it gets to the end of the body, it loops back around to the header, which is why this statement is called a **loop**.\n",
        "The second time through the loop, it assigns the next value from `range` to `i`, and displays it.\n",
        "Then, because that's the last value from `range`, the loop ends.\n",
        "\n",
        "Here's how we can use a `for` loop to print two verses of the song."
      ]
    },
    {
      "cell_type": "code",
      "execution_count": null,
      "id": "038ad592",
      "metadata": {
        "id": "038ad592",
        "colab": {
          "base_uri": "https://localhost:8080/"
        },
        "outputId": "2134c437-9550-4210-a051-6fec4233f94b"
      },
      "outputs": [
        {
          "output_type": "stream",
          "name": "stdout",
          "text": [
            "Verso 1\n",
            "Arwrarwrirwrarwro, Arwrarwrirwrarwro, \n",
            "Wrarwrirwrorwrorwre,  Arwrarwrirwrarwro, \n",
            "Arwrarwrirwrarwro, Arwrarwrirwrarwro, \n",
            "Wrerwrirwrarwri,  Arwrarwrirwrarwro, \n",
            "Arwrarwrirwrarwro, Arwrarwrirwrarwro, \n",
            "\n",
            "Verso 2\n",
            "Arwrarwrirwrarwro, Arwrarwrirwrarwro, \n",
            "Wrarwrirwrorwrorwre,  Arwrarwrirwrarwro, \n",
            "Arwrarwrirwrarwro, Arwrarwrirwrarwro, \n",
            "Wrerwrirwrarwri,  Arwrarwrirwrarwro, \n",
            "Arwrarwrirwrarwro, Arwrarwrirwrarwro, \n",
            "\n"
          ]
        }
      ],
      "source": [
        "for j in range(1, 3):\n",
        "    print(\"Verso\", j)\n",
        "    print_verso()\n",
        "    print()"
      ]
    },
    {
      "cell_type": "markdown",
      "id": "88a46733",
      "metadata": {
        "id": "88a46733"
      },
      "source": [
        "You can put a `for` loop inside a function.\n",
        "For example, `print_n_verses` takes a parameter named `n`, which has to be an integer, and displays the given number of verses."
      ]
    },
    {
      "cell_type": "code",
      "execution_count": null,
      "id": "8887637a",
      "metadata": {
        "id": "8887637a"
      },
      "outputs": [],
      "source": [
        "def print_n_versos(j):\n",
        "    for j in range(j):\n",
        "        print_verso()\n",
        "        print()"
      ]
    },
    {
      "cell_type": "markdown",
      "id": "ad8060fe",
      "metadata": {
        "id": "ad8060fe"
      },
      "source": [
        "In this example, we don't use `i` in the body of the loop, but there has to be a variable name in the header anyway."
      ]
    },
    {
      "cell_type": "markdown",
      "id": "b320ec90",
      "metadata": {
        "id": "b320ec90"
      },
      "source": [
        "## Variables and parameters are local\n",
        "\n",
        "When you create a variable inside a function, it is **local**, which\n",
        "means that it only exists inside the function.\n",
        "For example, the following function takes two arguments, concatenates them, and prints the result twice."
      ]
    },
    {
      "cell_type": "code",
      "execution_count": null,
      "id": "0db8408e",
      "metadata": {
        "id": "0db8408e"
      },
      "outputs": [],
      "source": [
        "def double_dog(parte1, parte2):\n",
        "    dog = parte1 + parte2\n",
        "    double_print(dog)"
      ]
    },
    {
      "cell_type": "markdown",
      "id": "3a35a6d0",
      "metadata": {
        "id": "3a35a6d0"
      },
      "source": [
        "Here's an example that uses it:"
      ]
    },
    {
      "cell_type": "code",
      "execution_count": null,
      "id": "1c556e48",
      "metadata": {
        "id": "1c556e48",
        "colab": {
          "base_uri": "https://localhost:8080/"
        },
        "outputId": "ce504bdb-272f-4bef-b0e3-b6f2f8a0a28d"
      },
      "outputs": [
        {
          "output_type": "stream",
          "name": "stdout",
          "text": [
            "Mesa y silla, silla y mesa.\n",
            "Mesa y silla, silla y mesa.\n"
          ]
        }
      ],
      "source": [
        "linea1 = \"Mesa y silla, \"\n",
        "linea2 = \"silla y mesa.\"\n",
        "double_dog(linea1, linea2)"
      ]
    },
    {
      "cell_type": "markdown",
      "id": "4ab4e008",
      "metadata": {
        "id": "4ab4e008"
      },
      "source": [
        "When `cat_twice` runs, it creates a local variable named `cat`, which is destroyed when the function ends.\n",
        "If we try to display it, we get a `NameError`:"
      ]
    },
    {
      "cell_type": "code",
      "execution_count": null,
      "id": "73f03eea",
      "metadata": {
        "tags": [],
        "id": "73f03eea",
        "colab": {
          "base_uri": "https://localhost:8080/",
          "height": 183
        },
        "outputId": "444c9ee0-be73-40eb-e611-9a9e2af432a5"
      },
      "outputs": [
        {
          "output_type": "error",
          "ename": "NameError",
          "evalue": "name 'dog' is not defined",
          "traceback": [
            "\u001b[0;31m---------------------------------------------------------------------------\u001b[0m",
            "\u001b[0;31mNameError\u001b[0m                                 Traceback (most recent call last)",
            "\u001b[0;32m<ipython-input-109-6857f2fb20da>\u001b[0m in \u001b[0;36m<cell line: 0>\u001b[0;34m()\u001b[0m\n\u001b[0;32m----> 1\u001b[0;31m \u001b[0mprint\u001b[0m\u001b[0;34m(\u001b[0m\u001b[0mdog\u001b[0m\u001b[0;34m)\u001b[0m\u001b[0;34m\u001b[0m\u001b[0;34m\u001b[0m\u001b[0m\n\u001b[0m        \u001b[0;36mglobal\u001b[0m \u001b[0;36mprint\u001b[0m \u001b[0;34m= \u001b[0;36mundefined\u001b[0m\u001b[0m\u001b[0;34m\n        \u001b[0m\u001b[0;36mglobal\u001b[0m \u001b[0;36mdog\u001b[0m \u001b[0;34m= \u001b[0;36mundefined\u001b[0m\u001b[0m\n",
            "\u001b[0;31mNameError\u001b[0m: name 'dog' is not defined"
          ]
        }
      ],
      "source": [
        "%%expect NameError\n",
        "\n",
        "print(dog)"
      ]
    },
    {
      "cell_type": "markdown",
      "id": "3ae36c29",
      "metadata": {
        "id": "3ae36c29"
      },
      "source": [
        "Outside of the function, `cat` is not defined.\n",
        "\n",
        "Parameters are also local.\n",
        "For example, outside `cat_twice`, there is no such thing as `part1` or `part2`."
      ]
    },
    {
      "cell_type": "markdown",
      "id": "eabac8a6",
      "metadata": {
        "id": "eabac8a6"
      },
      "source": [
        "## Stack diagrams\n",
        "\n",
        "To keep track of which variables can be used where, it is sometimes useful to draw a **stack diagram**.\n",
        "Like state diagrams, stack diagrams show the value of each variable, but they also show the function each variable belongs to.\n",
        "\n",
        "Each function is represented by a **frame**.\n",
        "A frame is a box with the name of a function on the outside and the parameters and local variables of the function on the inside.\n",
        "\n",
        "Here's the stack diagram for the previous example."
      ]
    },
    {
      "cell_type": "code",
      "execution_count": null,
      "id": "83df4e32",
      "metadata": {
        "tags": [],
        "id": "83df4e32",
        "colab": {
          "base_uri": "https://localhost:8080/",
          "height": 293
        },
        "outputId": "911c4767-fb0e-4cf9-e988-5e95f0af54f3"
      },
      "outputs": [
        {
          "output_type": "error",
          "ename": "NameError",
          "evalue": "name 'line1' is not defined",
          "traceback": [
            "\u001b[0;31m---------------------------------------------------------------------------\u001b[0m",
            "\u001b[0;31mNameError\u001b[0m                                 Traceback (most recent call last)",
            "\u001b[0;32m<ipython-input-110-0a60d659549f>\u001b[0m in \u001b[0;36m<cell line: 0>\u001b[0;34m()\u001b[0m\n\u001b[1;32m      1\u001b[0m \u001b[0;32mfrom\u001b[0m \u001b[0mdiagram\u001b[0m \u001b[0;32mimport\u001b[0m \u001b[0mmake_frame\u001b[0m\u001b[0;34m,\u001b[0m \u001b[0mStack\u001b[0m\u001b[0;34m\u001b[0m\u001b[0;34m\u001b[0m\u001b[0m\n\u001b[1;32m      2\u001b[0m \u001b[0;34m\u001b[0m\u001b[0m\n\u001b[0;32m----> 3\u001b[0;31m \u001b[0md1\u001b[0m \u001b[0;34m=\u001b[0m \u001b[0mdict\u001b[0m\u001b[0;34m(\u001b[0m\u001b[0mline1\u001b[0m\u001b[0;34m=\u001b[0m\u001b[0mline1\u001b[0m\u001b[0;34m,\u001b[0m \u001b[0mline2\u001b[0m\u001b[0;34m=\u001b[0m\u001b[0mline2\u001b[0m\u001b[0;34m)\u001b[0m\u001b[0;34m\u001b[0m\u001b[0;34m\u001b[0m\u001b[0m\n\u001b[0m        \u001b[0;36mglobal\u001b[0m \u001b[0;36md1\u001b[0m \u001b[0;34m= \u001b[0;36mundefined\u001b[0m\u001b[0m\u001b[0;34m\n        \u001b[0m\u001b[0;36mglobal\u001b[0m \u001b[0;36mdict\u001b[0m \u001b[0;34m= \u001b[0;36mundefined\u001b[0m\u001b[0m\u001b[0;34m\n        \u001b[0m\u001b[0;36mglobal\u001b[0m \u001b[0;36mline1\u001b[0m \u001b[0;34m= \u001b[0;36mundefined\u001b[0m\u001b[0m\u001b[0;34m\n        \u001b[0m\u001b[0;36mglobal\u001b[0m \u001b[0;36mline2\u001b[0m \u001b[0;34m= \u001b[0;36mundefined\u001b[0m\u001b[0m\n\u001b[1;32m      4\u001b[0m \u001b[0mframe1\u001b[0m \u001b[0;34m=\u001b[0m \u001b[0mmake_frame\u001b[0m\u001b[0;34m(\u001b[0m\u001b[0md1\u001b[0m\u001b[0;34m,\u001b[0m \u001b[0mname\u001b[0m\u001b[0;34m=\u001b[0m\u001b[0;34m'__main__'\u001b[0m\u001b[0;34m,\u001b[0m \u001b[0mdy\u001b[0m\u001b[0;34m=\u001b[0m\u001b[0;34m-\u001b[0m\u001b[0;36m0.3\u001b[0m\u001b[0;34m,\u001b[0m \u001b[0mloc\u001b[0m\u001b[0;34m=\u001b[0m\u001b[0;34m'left'\u001b[0m\u001b[0;34m)\u001b[0m\u001b[0;34m\u001b[0m\u001b[0;34m\u001b[0m\u001b[0m\n\u001b[1;32m      5\u001b[0m \u001b[0;34m\u001b[0m\u001b[0m\n",
            "\u001b[0;31mNameError\u001b[0m: name 'line1' is not defined"
          ]
        }
      ],
      "source": [
        "from diagram import make_frame, Stack\n",
        "\n",
        "d1 = dict(line1=line1, line2=line2)\n",
        "frame1 = make_frame(d1, name='__main__', dy=-0.3, loc='left')\n",
        "\n",
        "d2 = dict(part1=line1, part2=line2, cat=line1+line2)\n",
        "frame2 = make_frame(d2, name='cat_twice', dy=-0.3,\n",
        "                    offsetx=0.03, loc='left')\n",
        "\n",
        "d3 = dict(string=line1+line2)\n",
        "frame3 = make_frame(d3, name='print_twice',\n",
        "                    offsetx=0.04, offsety=-0.3, loc='left')\n",
        "\n",
        "d4 = {\"?\": line1+line2}\n",
        "frame4 = make_frame(d4, name='print',\n",
        "                    offsetx=-0.22, offsety=0, loc='left')\n",
        "\n",
        "stack = Stack([frame1, frame2, frame3, frame4], dy=-0.8)"
      ]
    },
    {
      "cell_type": "code",
      "execution_count": null,
      "id": "bcd5e1df",
      "metadata": {
        "tags": [],
        "id": "bcd5e1df"
      },
      "outputs": [],
      "source": [
        "from diagram import diagram, adjust\n",
        "\n",
        "\n",
        "width, height, x, y = [3.77, 2.9, 1.1, 2.65]\n",
        "ax = diagram(width, height)\n",
        "bbox = stack.draw(ax, x, y)\n",
        "# adjust(x, y, bbox)"
      ]
    },
    {
      "cell_type": "markdown",
      "id": "854fee12",
      "metadata": {
        "id": "854fee12"
      },
      "source": [
        "The frames are arranged in a stack that indicates which function called\n",
        "which, and so on. Reading from the bottom, `print` was called by `print_twice`, which was called by `cat_twice`, which was called by `__main__` -- which is a special name for the topmost frame.\n",
        "When you create a variable outside of any function, it belongs to `__main__`.\n",
        "\n",
        "In the frame for `print`, the question mark indicates that we don't know the name of the parameter.\n",
        "If you are curious, ask a virtual assistant, \"What are the parameters of the Python print function?\""
      ]
    },
    {
      "cell_type": "markdown",
      "id": "5690cfc0",
      "metadata": {
        "id": "5690cfc0"
      },
      "source": [
        "## Tracebacks\n",
        "\n",
        "When a runtime error occurs in a function, Python displays the name of the function that was running, the name of the function that called it, and so on, up the stack.\n",
        "To see an example, I'll define a version of `print_twice` that contains an error -- it tries to print `cat`, which is a local variable in another function."
      ]
    },
    {
      "cell_type": "code",
      "execution_count": null,
      "id": "886519cf",
      "metadata": {
        "id": "886519cf"
      },
      "outputs": [],
      "source": [
        "def double_print(string):\n",
        "    print(dog)\n",
        "    print(dog)"
      ]
    },
    {
      "cell_type": "markdown",
      "id": "d7c0713b",
      "metadata": {
        "id": "d7c0713b"
      },
      "source": [
        "Now here's what happens when we run `cat_twice`."
      ]
    },
    {
      "cell_type": "code",
      "execution_count": null,
      "id": "1fe8ee82",
      "metadata": {
        "tags": [],
        "id": "1fe8ee82",
        "colab": {
          "base_uri": "https://localhost:8080/"
        },
        "outputId": "f672ded3-ac3b-4efd-9eb2-a38b7e8c3477"
      },
      "outputs": [
        {
          "output_type": "stream",
          "name": "stdout",
          "text": [
            "Exception reporting mode: Verbose\n"
          ]
        }
      ],
      "source": [
        "# This cell tells Jupyter to provide detailed debugging information\n",
        "# when a runtime error occurs, including a traceback.\n",
        "\n",
        "%xmode Verbose"
      ]
    },
    {
      "cell_type": "code",
      "execution_count": null,
      "id": "d9082f88",
      "metadata": {
        "tags": [],
        "id": "d9082f88",
        "colab": {
          "base_uri": "https://localhost:8080/",
          "height": 353
        },
        "outputId": "76ec75f2-d734-4872-fb1f-8af82b7698d7"
      },
      "outputs": [
        {
          "output_type": "error",
          "ename": "NameError",
          "evalue": "name 'dog' is not defined",
          "traceback": [
            "\u001b[0;31m---------------------------------------------------------------------------\u001b[0m",
            "\u001b[0;31mNameError\u001b[0m                                 Traceback (most recent call last)",
            "\u001b[0;32m<ipython-input-114-1da836d541cf>\u001b[0m in \u001b[0;36m<cell line: 0>\u001b[0;34m()\u001b[0m\n\u001b[0;32m----> 1\u001b[0;31m \u001b[0mdouble_dog\u001b[0m\u001b[0;34m(\u001b[0m\u001b[0mlinea1\u001b[0m\u001b[0;34m,\u001b[0m \u001b[0mlinea2\u001b[0m\u001b[0;34m)\u001b[0m\u001b[0;34m\u001b[0m\u001b[0;34m\u001b[0m\u001b[0m\n\u001b[0m        \u001b[0;36mglobal\u001b[0m \u001b[0;36mdouble_dog\u001b[0m \u001b[0;34m= <function double_dog at 0x7fd6864f4900>\u001b[0m\u001b[0;34m\n        \u001b[0m\u001b[0;36mglobal\u001b[0m \u001b[0;36mlinea1\u001b[0m \u001b[0;34m= 'Mesa y silla, '\u001b[0m\u001b[0;34m\n        \u001b[0m\u001b[0;36mglobal\u001b[0m \u001b[0;36mlinea2\u001b[0m \u001b[0;34m= 'silla y mesa.'\u001b[0m\n",
            "\u001b[0;32m<ipython-input-107-6397912bdc18>\u001b[0m in \u001b[0;36mdouble_dog\u001b[0;34m(parte1='Mesa y silla, ', parte2='silla y mesa.')\u001b[0m\n\u001b[1;32m      1\u001b[0m \u001b[0;32mdef\u001b[0m \u001b[0mdouble_dog\u001b[0m\u001b[0;34m(\u001b[0m\u001b[0mparte1\u001b[0m\u001b[0;34m,\u001b[0m \u001b[0mparte2\u001b[0m\u001b[0;34m)\u001b[0m\u001b[0;34m:\u001b[0m\u001b[0;34m\u001b[0m\u001b[0;34m\u001b[0m\u001b[0m\n\u001b[1;32m      2\u001b[0m     \u001b[0mdog\u001b[0m \u001b[0;34m=\u001b[0m \u001b[0mparte1\u001b[0m \u001b[0;34m+\u001b[0m \u001b[0mparte2\u001b[0m\u001b[0;34m\u001b[0m\u001b[0;34m\u001b[0m\u001b[0m\n\u001b[0;32m----> 3\u001b[0;31m     \u001b[0mdouble_print\u001b[0m\u001b[0;34m(\u001b[0m\u001b[0mdog\u001b[0m\u001b[0;34m)\u001b[0m\u001b[0;34m\u001b[0m\u001b[0;34m\u001b[0m\u001b[0m\n\u001b[0m        \u001b[0;36mglobal\u001b[0m \u001b[0;36mdouble_print\u001b[0m \u001b[0;34m= <function double_print at 0x7fd6864f4fe0>\u001b[0m\u001b[0;34m\n        \u001b[0m\u001b[0;36mdog\u001b[0m \u001b[0;34m= 'Mesa y silla, silla y mesa.'\u001b[0m\n",
            "\u001b[0;32m<ipython-input-111-08d717fe2b4e>\u001b[0m in \u001b[0;36mdouble_print\u001b[0;34m(string='Mesa y silla, silla y mesa.')\u001b[0m\n\u001b[1;32m      1\u001b[0m \u001b[0;32mdef\u001b[0m \u001b[0mdouble_print\u001b[0m\u001b[0;34m(\u001b[0m\u001b[0mstring\u001b[0m\u001b[0;34m)\u001b[0m\u001b[0;34m:\u001b[0m\u001b[0;34m\u001b[0m\u001b[0;34m\u001b[0m\u001b[0m\n\u001b[0;32m----> 2\u001b[0;31m     \u001b[0mprint\u001b[0m\u001b[0;34m(\u001b[0m\u001b[0mdog\u001b[0m\u001b[0;34m)\u001b[0m\u001b[0;34m\u001b[0m\u001b[0;34m\u001b[0m\u001b[0m\n\u001b[0m        \u001b[0;36mglobal\u001b[0m \u001b[0;36mprint\u001b[0m \u001b[0;34m= \u001b[0;36mundefined\u001b[0m\u001b[0m\u001b[0;34m\n        \u001b[0m\u001b[0;36mglobal\u001b[0m \u001b[0;36mdog\u001b[0m \u001b[0;34m= \u001b[0;36mundefined\u001b[0m\u001b[0m\n\u001b[1;32m      3\u001b[0m     \u001b[0mprint\u001b[0m\u001b[0;34m(\u001b[0m\u001b[0mdog\u001b[0m\u001b[0;34m)\u001b[0m\u001b[0;34m\u001b[0m\u001b[0;34m\u001b[0m\u001b[0m\n",
            "\u001b[0;31mNameError\u001b[0m: name 'dog' is not defined"
          ]
        }
      ],
      "source": [
        "%%expect NameError\n",
        "\n",
        "double_dog(linea1, linea2)"
      ]
    },
    {
      "cell_type": "markdown",
      "id": "2f4defcf",
      "metadata": {
        "id": "2f4defcf"
      },
      "source": [
        "The error message includes a **traceback**, which shows the function that was running when the error occurred, the function that called it, and so on.\n",
        "In this example, it shows that `cat_twice` called `print_twice`, and the error occurred in a `print_twice`.\n",
        "\n",
        "The order of the functions in the traceback is the same as the order of the frames in the stack diagram.\n",
        "The function that was running is at the bottom."
      ]
    },
    {
      "cell_type": "markdown",
      "id": "374b4696",
      "metadata": {
        "id": "374b4696"
      },
      "source": [
        "## Why functions?\n",
        "\n",
        "It may not be clear yet why it is worth the trouble to divide a program into\n",
        "functions.\n",
        "There are several reasons:\n",
        "\n",
        "-   Creating a new function gives you an opportunity to name a group of\n",
        "    statements, which makes your program easier to read and debug.\n",
        "\n",
        "-   Functions can make a program smaller by eliminating repetitive code.\n",
        "    Later, if you make a change, you only have to make it in one place.\n",
        "\n",
        "-   Dividing a long program into functions allows you to debug the parts\n",
        "    one at a time and then assemble them into a working whole.\n",
        "\n",
        "-   Well-designed functions are often useful for many programs. Once you\n",
        "    write and debug one, you can reuse it."
      ]
    },
    {
      "cell_type": "markdown",
      "id": "c6dd486e",
      "metadata": {
        "id": "c6dd486e"
      },
      "source": [
        "## Debugging\n",
        "\n",
        "Debugging can be frustrating, but it is also challenging, interesting, and sometimes even fun.\n",
        "And it is one of the most important skills you can learn.\n",
        "\n",
        "In some ways debugging is like detective work.\n",
        "You are given clues and you have to infer the events that led to the\n",
        "results you see.\n",
        "\n",
        "Debugging is also like experimental science.\n",
        "Once you have an idea about what is going wrong, you modify your program and try again.\n",
        "If your hypothesis was correct, you can predict the result of the modification, and you take a step closer to a working program.\n",
        "If your hypothesis was wrong, you have to come up with a new one.\n",
        "\n",
        "For some people, programming and debugging are the same thing; that is, programming is the process of gradually debugging a program until it does what you want.\n",
        "The idea is that you should start with a working program and make small modifications, debugging them as you go.\n",
        "\n",
        "If you find yourself spending a lot of time debugging, that is often a sign that you are writing too much code before you start tests.\n",
        "If you take smaller steps, you might find that you can move faster."
      ]
    },
    {
      "cell_type": "markdown",
      "id": "d4e95e63",
      "metadata": {
        "id": "d4e95e63"
      },
      "source": [
        "## Glossary\n",
        "\n",
        "**function definition:**\n",
        "A statement that creates a function.\n",
        "\n",
        "**header:**\n",
        " The first line of a function definition.\n",
        "\n",
        "**body:**\n",
        " The sequence of statements inside a function definition.\n",
        "\n",
        "**function object:**\n",
        "A value created by a function definition.\n",
        "The name of the function is a variable that refers to a function object.\n",
        "\n",
        "**parameter:**\n",
        " A name used inside a function to refer to the value passed as an argument.\n",
        "\n",
        "**loop:**\n",
        " A statement that runs one or more statements, often repeatedly.\n",
        "\n",
        "**local variable:**\n",
        "A variable defined inside a function, and which can only be accessed inside the function.\n",
        "\n",
        "**stack diagram:**\n",
        "A graphical representation of a stack of functions, their variables, and the values they refer to.\n",
        "\n",
        "**frame:**\n",
        " A box in a stack diagram that represents a function call.\n",
        " It contains the local variables and parameters of the function.\n",
        "\n",
        "**traceback:**\n",
        " A list of the functions that are executing, printed when an exception occurs."
      ]
    },
    {
      "cell_type": "markdown",
      "id": "eca485f2",
      "metadata": {
        "id": "eca485f2"
      },
      "source": [
        "## Exercises"
      ]
    },
    {
      "cell_type": "code",
      "execution_count": null,
      "id": "3f77b428",
      "metadata": {
        "tags": [],
        "id": "3f77b428"
      },
      "outputs": [],
      "source": [
        "# This cell tells Jupyter to provide detailed debugging information\n",
        "# when a runtime error occurs. Run it before working on the exercises.\n",
        "\n",
        "%xmode Verbose"
      ]
    },
    {
      "cell_type": "markdown",
      "id": "82951027",
      "metadata": {
        "id": "82951027"
      },
      "source": [
        "### Ask a virtual assistant\n",
        "\n",
        "The statements in a function or a `for` loop are indented by four spaces, by convention.\n",
        "But not everyone agrees with that convention.\n",
        "If you are curious about the history of this great debate, ask a virtual assistant to \"tell me about spaces and tabs in Python\".\n",
        "\n",
        "Virtual assistant are pretty good at writing small functions.\n",
        "\n",
        "1. Ask your favorite VA to \"Write a function called repeat that takes a string and an integer and prints the string the given number of times.\"\n",
        "\n",
        "2. If the result uses a `for` loop, you could ask, \"Can you do it without a for loop?\"\n",
        "\n",
        "3. Pick any other function in this chapter and ask a VA to write it. The challenge is to describe the function precisely enough to get what you want. Use the vocabulary you have learned so far in this book.\n",
        "\n",
        "Virtual assistants are also pretty good at debugging functions.\n",
        "\n",
        "1. Ask a VA what's wrong with this version of `print_twice`.\n",
        "\n",
        "    ```\n",
        "    def print_twice(string):\n",
        "        print(cat)\n",
        "        print(cat)\n",
        "    ```\n",
        "    \n",
        "And if you get stuck on any of the exercises below, consider asking a VA for help."
      ]
    },
    {
      "cell_type": "markdown",
      "id": "b7157b09",
      "metadata": {
        "id": "b7157b09"
      },
      "source": [
        "### Exercise\n",
        "\n",
        "Write a function named `print_right` that takes a string named `text` as a parameter and prints the string with enough leading spaces that the last letter of the string is in the 40th column of the display."
      ]
    },
    {
      "cell_type": "code",
      "execution_count": null,
      "id": "a6004271",
      "metadata": {
        "id": "a6004271"
      },
      "outputs": [],
      "source": [
        "def print_right(text):\n",
        "  espacios = 40 - len(text)\n",
        "  print(' ' * espacios + text)"
      ]
    },
    {
      "cell_type": "code",
      "source": [
        "print_right(\"text\")"
      ],
      "metadata": {
        "colab": {
          "base_uri": "https://localhost:8080/"
        },
        "id": "S2_AgGXOS_rq",
        "outputId": "5e1e6319-f2c3-49a2-97f4-f7b1eababc39"
      },
      "id": "S2_AgGXOS_rq",
      "execution_count": null,
      "outputs": [
        {
          "output_type": "stream",
          "name": "stdout",
          "text": [
            "                                    text\n"
          ]
        }
      ]
    },
    {
      "cell_type": "markdown",
      "id": "428fbee5",
      "metadata": {
        "id": "428fbee5"
      },
      "source": [
        "Hint: Use the `len` function, the string concatenation operator (`+`) and the string repetition operator (`*`).\n",
        "\n",
        "Here's an example that shows how it should work."
      ]
    },
    {
      "cell_type": "code",
      "execution_count": null,
      "id": "f142ce6a",
      "metadata": {
        "tags": [],
        "id": "f142ce6a",
        "colab": {
          "base_uri": "https://localhost:8080/"
        },
        "outputId": "1fc5c03a-5e2c-48ba-b93f-7f795a35228b"
      },
      "outputs": [
        {
          "output_type": "stream",
          "name": "stdout",
          "text": [
            "                                   Monty\n",
            "                                Python's\n",
            "                           Flying Circus\n"
          ]
        }
      ],
      "source": [
        "print_right(\"Monty\")\n",
        "print_right(\"Python's\")\n",
        "print_right(\"Flying Circus\")"
      ]
    },
    {
      "cell_type": "markdown",
      "id": "b47467fa",
      "metadata": {
        "id": "b47467fa"
      },
      "source": [
        "### Exercise\n",
        "\n",
        "Write a function called `triangle` that takes a string and an integer and draws a pyramid with the given height, made up using copies of the string. Here's an example of a pyramid with `5` levels, using the string `'L'`."
      ]
    },
    {
      "cell_type": "code",
      "execution_count": 38,
      "id": "7aa95014",
      "metadata": {
        "id": "7aa95014"
      },
      "outputs": [],
      "source": [
        "def triangle (string, levels):\n",
        "  for levels in range(levels + 1):\n",
        "    print(string * (levels))\n",
        ""
      ]
    },
    {
      "cell_type": "code",
      "execution_count": 40,
      "id": "b8146a0d",
      "metadata": {
        "scrolled": true,
        "tags": [],
        "id": "b8146a0d",
        "colab": {
          "base_uri": "https://localhost:8080/"
        },
        "outputId": "e01023af-6183-4024-92dd-caacf71b0306"
      },
      "outputs": [
        {
          "output_type": "stream",
          "name": "stdout",
          "text": [
            "\n",
            "h\n",
            "hh\n",
            "hhh\n",
            "hhhh\n",
            "hhhhh\n"
          ]
        }
      ],
      "source": [
        "triangle('L', 5)"
      ]
    },
    {
      "cell_type": "markdown",
      "id": "4a28f635",
      "metadata": {
        "id": "4a28f635"
      },
      "source": [
        "### Exercise\n",
        "\n",
        "Write a function called `rectangle` that takes a string and two integers and draws a rectangle with the given width and height, made up using copies of the string. Here's an example of a rectangle with width `5` and height `4`, made up of the string `'H'`."
      ]
    },
    {
      "cell_type": "code",
      "execution_count": 80,
      "id": "bcedab79",
      "metadata": {
        "id": "bcedab79"
      },
      "outputs": [],
      "source": [
        "def rectangle (string, width, height):\n",
        "  for width in range(height):\n",
        "    print(string * (height + 1))"
      ]
    },
    {
      "cell_type": "code",
      "execution_count": 84,
      "id": "73b0c0f6",
      "metadata": {
        "scrolled": true,
        "tags": [],
        "id": "73b0c0f6",
        "colab": {
          "base_uri": "https://localhost:8080/"
        },
        "outputId": "995607a6-778b-49d4-eaa3-89f246989d4e"
      },
      "outputs": [
        {
          "output_type": "stream",
          "name": "stdout",
          "text": [
            "HHHHH\n",
            "HHHHH\n",
            "HHHHH\n",
            "HHHHH\n"
          ]
        }
      ],
      "source": [
        "rectangle('H', 5, 4)"
      ]
    },
    {
      "cell_type": "markdown",
      "id": "44a5de6f",
      "metadata": {
        "id": "44a5de6f"
      },
      "source": [
        "### Exercise\n",
        "\n",
        "The song \"99 Bottles of Beer\" starts with this verse:\n",
        "\n",
        "> 99 bottles of beer on the wall  \n",
        "> 99 bottles of beer  \n",
        "> Take one down, pass it around  \n",
        "> 98 bottles of beer on the wall  \n",
        "\n",
        "Then the second verse is the same, except that it starts with 98 bottles and ends with 97. The song continues -- for a very long time -- until there are 0 bottles of beer.\n",
        "\n",
        "Write a function called `bottle_verse` that takes a number as a parameter and displays the verse that starts with the given number of bottles.\n",
        "\n",
        "Hint: Consider starting with a function that can print the first, second, or last line of the verse, and then use it to write `bottle_verse`."
      ]
    },
    {
      "cell_type": "code",
      "execution_count": 110,
      "id": "53424b43",
      "metadata": {
        "id": "53424b43"
      },
      "outputs": [],
      "source": [
        "def bottle_verse (int):\n",
        "  print(f\"{int} bottles of beer on the wall\\n{int} bottles of beer\")\n",
        "  print(f\"Take one down, pass it around\\n{int - 1} bottles of beer on the wall\")"
      ]
    },
    {
      "cell_type": "code",
      "execution_count": 113,
      "id": "61010ffb",
      "metadata": {
        "id": "61010ffb",
        "colab": {
          "base_uri": "https://localhost:8080/"
        },
        "outputId": "84481193-7992-4103-d096-0481c274ebbf"
      },
      "outputs": [
        {
          "output_type": "stream",
          "name": "stdout",
          "text": [
            "75 bottles of beer on the wall\n",
            "75 bottles of beer\n",
            "Take one down, pass it around\n",
            "74 bottles of beer on the wall\n"
          ]
        }
      ],
      "source": [
        "bottle_verse(75)"
      ]
    },
    {
      "cell_type": "markdown",
      "id": "ee0076dd",
      "metadata": {
        "tags": [],
        "id": "ee0076dd"
      },
      "source": [
        "Use this function call to display the first verse."
      ]
    },
    {
      "cell_type": "code",
      "execution_count": 114,
      "id": "47a91c7d",
      "metadata": {
        "tags": [],
        "id": "47a91c7d",
        "colab": {
          "base_uri": "https://localhost:8080/"
        },
        "outputId": "ef4a8cd6-8f84-4d94-f546-123fb98ee332"
      },
      "outputs": [
        {
          "output_type": "stream",
          "name": "stdout",
          "text": [
            "99 bottles of beer on the wall\n",
            "99 bottles of beer\n",
            "Take one down, pass it around\n",
            "98 bottles of beer on the wall\n"
          ]
        }
      ],
      "source": [
        "bottle_verse(99)"
      ]
    },
    {
      "cell_type": "markdown",
      "id": "42c237c6",
      "metadata": {
        "tags": [],
        "id": "42c237c6"
      },
      "source": [
        "If you want to print the whole song, you can use this `for` loop, which counts down from `99` to `1`.\n",
        "You don't have to completely understand this example---we'll learn more about `for` loops and the `range` function later."
      ]
    },
    {
      "cell_type": "code",
      "execution_count": 105,
      "id": "336cdfa2",
      "metadata": {
        "tags": [],
        "id": "336cdfa2",
        "colab": {
          "base_uri": "https://localhost:8080/"
        },
        "outputId": "dc0fff2a-2cfd-4752-dc78-4bbefff1a498"
      },
      "outputs": [
        {
          "output_type": "stream",
          "name": "stdout",
          "text": [
            "99 bottles of beer on the wall\n",
            "99 bottles of beer\n",
            "Take one down, pass it around\n",
            "98 bottles of beer on the wall\n",
            "\n",
            "98 bottles of beer on the wall\n",
            "98 bottles of beer\n",
            "Take one down, pass it around\n",
            "97 bottles of beer on the wall\n",
            "\n",
            "97 bottles of beer on the wall\n",
            "97 bottles of beer\n",
            "Take one down, pass it around\n",
            "96 bottles of beer on the wall\n",
            "\n",
            "96 bottles of beer on the wall\n",
            "96 bottles of beer\n",
            "Take one down, pass it around\n",
            "95 bottles of beer on the wall\n",
            "\n",
            "95 bottles of beer on the wall\n",
            "95 bottles of beer\n",
            "Take one down, pass it around\n",
            "94 bottles of beer on the wall\n",
            "\n",
            "94 bottles of beer on the wall\n",
            "94 bottles of beer\n",
            "Take one down, pass it around\n",
            "93 bottles of beer on the wall\n",
            "\n",
            "93 bottles of beer on the wall\n",
            "93 bottles of beer\n",
            "Take one down, pass it around\n",
            "92 bottles of beer on the wall\n",
            "\n",
            "92 bottles of beer on the wall\n",
            "92 bottles of beer\n",
            "Take one down, pass it around\n",
            "91 bottles of beer on the wall\n",
            "\n",
            "91 bottles of beer on the wall\n",
            "91 bottles of beer\n",
            "Take one down, pass it around\n",
            "90 bottles of beer on the wall\n",
            "\n",
            "90 bottles of beer on the wall\n",
            "90 bottles of beer\n",
            "Take one down, pass it around\n",
            "89 bottles of beer on the wall\n",
            "\n",
            "89 bottles of beer on the wall\n",
            "89 bottles of beer\n",
            "Take one down, pass it around\n",
            "88 bottles of beer on the wall\n",
            "\n",
            "88 bottles of beer on the wall\n",
            "88 bottles of beer\n",
            "Take one down, pass it around\n",
            "87 bottles of beer on the wall\n",
            "\n",
            "87 bottles of beer on the wall\n",
            "87 bottles of beer\n",
            "Take one down, pass it around\n",
            "86 bottles of beer on the wall\n",
            "\n",
            "86 bottles of beer on the wall\n",
            "86 bottles of beer\n",
            "Take one down, pass it around\n",
            "85 bottles of beer on the wall\n",
            "\n",
            "85 bottles of beer on the wall\n",
            "85 bottles of beer\n",
            "Take one down, pass it around\n",
            "84 bottles of beer on the wall\n",
            "\n",
            "84 bottles of beer on the wall\n",
            "84 bottles of beer\n",
            "Take one down, pass it around\n",
            "83 bottles of beer on the wall\n",
            "\n",
            "83 bottles of beer on the wall\n",
            "83 bottles of beer\n",
            "Take one down, pass it around\n",
            "82 bottles of beer on the wall\n",
            "\n",
            "82 bottles of beer on the wall\n",
            "82 bottles of beer\n",
            "Take one down, pass it around\n",
            "81 bottles of beer on the wall\n",
            "\n",
            "81 bottles of beer on the wall\n",
            "81 bottles of beer\n",
            "Take one down, pass it around\n",
            "80 bottles of beer on the wall\n",
            "\n",
            "80 bottles of beer on the wall\n",
            "80 bottles of beer\n",
            "Take one down, pass it around\n",
            "79 bottles of beer on the wall\n",
            "\n",
            "79 bottles of beer on the wall\n",
            "79 bottles of beer\n",
            "Take one down, pass it around\n",
            "78 bottles of beer on the wall\n",
            "\n",
            "78 bottles of beer on the wall\n",
            "78 bottles of beer\n",
            "Take one down, pass it around\n",
            "77 bottles of beer on the wall\n",
            "\n",
            "77 bottles of beer on the wall\n",
            "77 bottles of beer\n",
            "Take one down, pass it around\n",
            "76 bottles of beer on the wall\n",
            "\n",
            "76 bottles of beer on the wall\n",
            "76 bottles of beer\n",
            "Take one down, pass it around\n",
            "75 bottles of beer on the wall\n",
            "\n",
            "75 bottles of beer on the wall\n",
            "75 bottles of beer\n",
            "Take one down, pass it around\n",
            "74 bottles of beer on the wall\n",
            "\n",
            "74 bottles of beer on the wall\n",
            "74 bottles of beer\n",
            "Take one down, pass it around\n",
            "73 bottles of beer on the wall\n",
            "\n",
            "73 bottles of beer on the wall\n",
            "73 bottles of beer\n",
            "Take one down, pass it around\n",
            "72 bottles of beer on the wall\n",
            "\n",
            "72 bottles of beer on the wall\n",
            "72 bottles of beer\n",
            "Take one down, pass it around\n",
            "71 bottles of beer on the wall\n",
            "\n",
            "71 bottles of beer on the wall\n",
            "71 bottles of beer\n",
            "Take one down, pass it around\n",
            "70 bottles of beer on the wall\n",
            "\n",
            "70 bottles of beer on the wall\n",
            "70 bottles of beer\n",
            "Take one down, pass it around\n",
            "69 bottles of beer on the wall\n",
            "\n",
            "69 bottles of beer on the wall\n",
            "69 bottles of beer\n",
            "Take one down, pass it around\n",
            "68 bottles of beer on the wall\n",
            "\n",
            "68 bottles of beer on the wall\n",
            "68 bottles of beer\n",
            "Take one down, pass it around\n",
            "67 bottles of beer on the wall\n",
            "\n",
            "67 bottles of beer on the wall\n",
            "67 bottles of beer\n",
            "Take one down, pass it around\n",
            "66 bottles of beer on the wall\n",
            "\n",
            "66 bottles of beer on the wall\n",
            "66 bottles of beer\n",
            "Take one down, pass it around\n",
            "65 bottles of beer on the wall\n",
            "\n",
            "65 bottles of beer on the wall\n",
            "65 bottles of beer\n",
            "Take one down, pass it around\n",
            "64 bottles of beer on the wall\n",
            "\n",
            "64 bottles of beer on the wall\n",
            "64 bottles of beer\n",
            "Take one down, pass it around\n",
            "63 bottles of beer on the wall\n",
            "\n",
            "63 bottles of beer on the wall\n",
            "63 bottles of beer\n",
            "Take one down, pass it around\n",
            "62 bottles of beer on the wall\n",
            "\n",
            "62 bottles of beer on the wall\n",
            "62 bottles of beer\n",
            "Take one down, pass it around\n",
            "61 bottles of beer on the wall\n",
            "\n",
            "61 bottles of beer on the wall\n",
            "61 bottles of beer\n",
            "Take one down, pass it around\n",
            "60 bottles of beer on the wall\n",
            "\n",
            "60 bottles of beer on the wall\n",
            "60 bottles of beer\n",
            "Take one down, pass it around\n",
            "59 bottles of beer on the wall\n",
            "\n",
            "59 bottles of beer on the wall\n",
            "59 bottles of beer\n",
            "Take one down, pass it around\n",
            "58 bottles of beer on the wall\n",
            "\n",
            "58 bottles of beer on the wall\n",
            "58 bottles of beer\n",
            "Take one down, pass it around\n",
            "57 bottles of beer on the wall\n",
            "\n",
            "57 bottles of beer on the wall\n",
            "57 bottles of beer\n",
            "Take one down, pass it around\n",
            "56 bottles of beer on the wall\n",
            "\n",
            "56 bottles of beer on the wall\n",
            "56 bottles of beer\n",
            "Take one down, pass it around\n",
            "55 bottles of beer on the wall\n",
            "\n",
            "55 bottles of beer on the wall\n",
            "55 bottles of beer\n",
            "Take one down, pass it around\n",
            "54 bottles of beer on the wall\n",
            "\n",
            "54 bottles of beer on the wall\n",
            "54 bottles of beer\n",
            "Take one down, pass it around\n",
            "53 bottles of beer on the wall\n",
            "\n",
            "53 bottles of beer on the wall\n",
            "53 bottles of beer\n",
            "Take one down, pass it around\n",
            "52 bottles of beer on the wall\n",
            "\n",
            "52 bottles of beer on the wall\n",
            "52 bottles of beer\n",
            "Take one down, pass it around\n",
            "51 bottles of beer on the wall\n",
            "\n",
            "51 bottles of beer on the wall\n",
            "51 bottles of beer\n",
            "Take one down, pass it around\n",
            "50 bottles of beer on the wall\n",
            "\n",
            "50 bottles of beer on the wall\n",
            "50 bottles of beer\n",
            "Take one down, pass it around\n",
            "49 bottles of beer on the wall\n",
            "\n",
            "49 bottles of beer on the wall\n",
            "49 bottles of beer\n",
            "Take one down, pass it around\n",
            "48 bottles of beer on the wall\n",
            "\n",
            "48 bottles of beer on the wall\n",
            "48 bottles of beer\n",
            "Take one down, pass it around\n",
            "47 bottles of beer on the wall\n",
            "\n",
            "47 bottles of beer on the wall\n",
            "47 bottles of beer\n",
            "Take one down, pass it around\n",
            "46 bottles of beer on the wall\n",
            "\n",
            "46 bottles of beer on the wall\n",
            "46 bottles of beer\n",
            "Take one down, pass it around\n",
            "45 bottles of beer on the wall\n",
            "\n",
            "45 bottles of beer on the wall\n",
            "45 bottles of beer\n",
            "Take one down, pass it around\n",
            "44 bottles of beer on the wall\n",
            "\n",
            "44 bottles of beer on the wall\n",
            "44 bottles of beer\n",
            "Take one down, pass it around\n",
            "43 bottles of beer on the wall\n",
            "\n",
            "43 bottles of beer on the wall\n",
            "43 bottles of beer\n",
            "Take one down, pass it around\n",
            "42 bottles of beer on the wall\n",
            "\n",
            "42 bottles of beer on the wall\n",
            "42 bottles of beer\n",
            "Take one down, pass it around\n",
            "41 bottles of beer on the wall\n",
            "\n",
            "41 bottles of beer on the wall\n",
            "41 bottles of beer\n",
            "Take one down, pass it around\n",
            "40 bottles of beer on the wall\n",
            "\n",
            "40 bottles of beer on the wall\n",
            "40 bottles of beer\n",
            "Take one down, pass it around\n",
            "39 bottles of beer on the wall\n",
            "\n",
            "39 bottles of beer on the wall\n",
            "39 bottles of beer\n",
            "Take one down, pass it around\n",
            "38 bottles of beer on the wall\n",
            "\n",
            "38 bottles of beer on the wall\n",
            "38 bottles of beer\n",
            "Take one down, pass it around\n",
            "37 bottles of beer on the wall\n",
            "\n",
            "37 bottles of beer on the wall\n",
            "37 bottles of beer\n",
            "Take one down, pass it around\n",
            "36 bottles of beer on the wall\n",
            "\n",
            "36 bottles of beer on the wall\n",
            "36 bottles of beer\n",
            "Take one down, pass it around\n",
            "35 bottles of beer on the wall\n",
            "\n",
            "35 bottles of beer on the wall\n",
            "35 bottles of beer\n",
            "Take one down, pass it around\n",
            "34 bottles of beer on the wall\n",
            "\n",
            "34 bottles of beer on the wall\n",
            "34 bottles of beer\n",
            "Take one down, pass it around\n",
            "33 bottles of beer on the wall\n",
            "\n",
            "33 bottles of beer on the wall\n",
            "33 bottles of beer\n",
            "Take one down, pass it around\n",
            "32 bottles of beer on the wall\n",
            "\n",
            "32 bottles of beer on the wall\n",
            "32 bottles of beer\n",
            "Take one down, pass it around\n",
            "31 bottles of beer on the wall\n",
            "\n",
            "31 bottles of beer on the wall\n",
            "31 bottles of beer\n",
            "Take one down, pass it around\n",
            "30 bottles of beer on the wall\n",
            "\n",
            "30 bottles of beer on the wall\n",
            "30 bottles of beer\n",
            "Take one down, pass it around\n",
            "29 bottles of beer on the wall\n",
            "\n",
            "29 bottles of beer on the wall\n",
            "29 bottles of beer\n",
            "Take one down, pass it around\n",
            "28 bottles of beer on the wall\n",
            "\n",
            "28 bottles of beer on the wall\n",
            "28 bottles of beer\n",
            "Take one down, pass it around\n",
            "27 bottles of beer on the wall\n",
            "\n",
            "27 bottles of beer on the wall\n",
            "27 bottles of beer\n",
            "Take one down, pass it around\n",
            "26 bottles of beer on the wall\n",
            "\n",
            "26 bottles of beer on the wall\n",
            "26 bottles of beer\n",
            "Take one down, pass it around\n",
            "25 bottles of beer on the wall\n",
            "\n",
            "25 bottles of beer on the wall\n",
            "25 bottles of beer\n",
            "Take one down, pass it around\n",
            "24 bottles of beer on the wall\n",
            "\n",
            "24 bottles of beer on the wall\n",
            "24 bottles of beer\n",
            "Take one down, pass it around\n",
            "23 bottles of beer on the wall\n",
            "\n",
            "23 bottles of beer on the wall\n",
            "23 bottles of beer\n",
            "Take one down, pass it around\n",
            "22 bottles of beer on the wall\n",
            "\n",
            "22 bottles of beer on the wall\n",
            "22 bottles of beer\n",
            "Take one down, pass it around\n",
            "21 bottles of beer on the wall\n",
            "\n",
            "21 bottles of beer on the wall\n",
            "21 bottles of beer\n",
            "Take one down, pass it around\n",
            "20 bottles of beer on the wall\n",
            "\n",
            "20 bottles of beer on the wall\n",
            "20 bottles of beer\n",
            "Take one down, pass it around\n",
            "19 bottles of beer on the wall\n",
            "\n",
            "19 bottles of beer on the wall\n",
            "19 bottles of beer\n",
            "Take one down, pass it around\n",
            "18 bottles of beer on the wall\n",
            "\n",
            "18 bottles of beer on the wall\n",
            "18 bottles of beer\n",
            "Take one down, pass it around\n",
            "17 bottles of beer on the wall\n",
            "\n",
            "17 bottles of beer on the wall\n",
            "17 bottles of beer\n",
            "Take one down, pass it around\n",
            "16 bottles of beer on the wall\n",
            "\n",
            "16 bottles of beer on the wall\n",
            "16 bottles of beer\n",
            "Take one down, pass it around\n",
            "15 bottles of beer on the wall\n",
            "\n",
            "15 bottles of beer on the wall\n",
            "15 bottles of beer\n",
            "Take one down, pass it around\n",
            "14 bottles of beer on the wall\n",
            "\n",
            "14 bottles of beer on the wall\n",
            "14 bottles of beer\n",
            "Take one down, pass it around\n",
            "13 bottles of beer on the wall\n",
            "\n",
            "13 bottles of beer on the wall\n",
            "13 bottles of beer\n",
            "Take one down, pass it around\n",
            "12 bottles of beer on the wall\n",
            "\n",
            "12 bottles of beer on the wall\n",
            "12 bottles of beer\n",
            "Take one down, pass it around\n",
            "11 bottles of beer on the wall\n",
            "\n",
            "11 bottles of beer on the wall\n",
            "11 bottles of beer\n",
            "Take one down, pass it around\n",
            "10 bottles of beer on the wall\n",
            "\n",
            "10 bottles of beer on the wall\n",
            "10 bottles of beer\n",
            "Take one down, pass it around\n",
            "9 bottles of beer on the wall\n",
            "\n",
            "9 bottles of beer on the wall\n",
            "9 bottles of beer\n",
            "Take one down, pass it around\n",
            "8 bottles of beer on the wall\n",
            "\n",
            "8 bottles of beer on the wall\n",
            "8 bottles of beer\n",
            "Take one down, pass it around\n",
            "7 bottles of beer on the wall\n",
            "\n",
            "7 bottles of beer on the wall\n",
            "7 bottles of beer\n",
            "Take one down, pass it around\n",
            "6 bottles of beer on the wall\n",
            "\n",
            "6 bottles of beer on the wall\n",
            "6 bottles of beer\n",
            "Take one down, pass it around\n",
            "5 bottles of beer on the wall\n",
            "\n",
            "5 bottles of beer on the wall\n",
            "5 bottles of beer\n",
            "Take one down, pass it around\n",
            "4 bottles of beer on the wall\n",
            "\n",
            "4 bottles of beer on the wall\n",
            "4 bottles of beer\n",
            "Take one down, pass it around\n",
            "3 bottles of beer on the wall\n",
            "\n",
            "3 bottles of beer on the wall\n",
            "3 bottles of beer\n",
            "Take one down, pass it around\n",
            "2 bottles of beer on the wall\n",
            "\n",
            "2 bottles of beer on the wall\n",
            "2 bottles of beer\n",
            "Take one down, pass it around\n",
            "1 bottles of beer on the wall\n",
            "\n",
            "1 bottles of beer on the wall\n",
            "1 bottles of beer\n",
            "Take one down, pass it around\n",
            "0 bottles of beer on the wall\n",
            "\n"
          ]
        }
      ],
      "source": [
        "for n in range(99, 0, -1):\n",
        "    bottle_verse(n)\n",
        "    print()"
      ]
    },
    {
      "cell_type": "code",
      "execution_count": null,
      "id": "4b02510c",
      "metadata": {
        "id": "4b02510c"
      },
      "outputs": [],
      "source": []
    },
    {
      "cell_type": "markdown",
      "id": "a7f4edf8",
      "metadata": {
        "tags": [],
        "id": "a7f4edf8"
      },
      "source": [
        "[Think Python: 3rd Edition](https://allendowney.github.io/ThinkPython/index.html)\n",
        "\n",
        "Copyright 2024 [Allen B. Downey](https://allendowney.com)\n",
        "\n",
        "Code license: [MIT License](https://mit-license.org/)\n",
        "\n",
        "Text license: [Creative Commons Attribution-NonCommercial-ShareAlike 4.0 International](https://creativecommons.org/licenses/by-nc-sa/4.0/)"
      ]
    }
  ],
  "metadata": {
    "celltoolbar": "Tags",
    "kernelspec": {
      "display_name": "Python 3 (ipykernel)",
      "language": "python",
      "name": "python3"
    },
    "language_info": {
      "codemirror_mode": {
        "name": "ipython",
        "version": 3
      },
      "file_extension": ".py",
      "mimetype": "text/x-python",
      "name": "python",
      "nbconvert_exporter": "python",
      "pygments_lexer": "ipython3",
      "version": "3.10.11"
    },
    "colab": {
      "provenance": [],
      "include_colab_link": true
    }
  },
  "nbformat": 4,
  "nbformat_minor": 5
}